{
 "cells": [
  {
   "cell_type": "raw",
   "metadata": {},
   "source": [
    "# Walkthrough of HOList API"
   ]
  },
  {
   "cell_type": "markdown",
   "metadata": {
    "toc": true
   },
   "source": [
    "<h1>Table of Contents<span class=\"tocSkip\"></span></h1>\n",
    "<div class=\"toc\"><ul class=\"toc-item\"><li><span><a href=\"#Running-this-notebook\" data-toc-modified-id=\"Running-this-notebook-1\"><span class=\"toc-item-num\">1&nbsp;&nbsp;</span>Running this notebook</a></span><ul class=\"toc-item\"><li><span><a href=\"#Instructions-for-opening-this-notebook-(tested-in-MacOS-with-Python-3.7)\" data-toc-modified-id=\"Instructions-for-opening-this-notebook-(tested-in-MacOS-with-Python-3.7)-1.1\"><span class=\"toc-item-num\">1.1&nbsp;&nbsp;</span>Instructions for opening this notebook (tested in MacOS with Python 3.7)</a></span></li></ul></li><li><span><a href=\"#Start-the-HOList-server\" data-toc-modified-id=\"Start-the-HOList-server-2\"><span class=\"toc-item-num\">2&nbsp;&nbsp;</span>Start the HOList server</a></span></li><li><span><a href=\"#Interacting-with-the-server:-big-picture\" data-toc-modified-id=\"Interacting-with-the-server:-big-picture-3\"><span class=\"toc-item-num\">3&nbsp;&nbsp;</span>Interacting with the server: big picture</a></span><ul class=\"toc-item\"><li><span><a href=\"#Theorem-proving\" data-toc-modified-id=\"Theorem-proving-3.1\"><span class=\"toc-item-num\">3.1&nbsp;&nbsp;</span>Theorem proving</a></span></li><li><span><a href=\"#Workflow\" data-toc-modified-id=\"Workflow-3.2\"><span class=\"toc-item-num\">3.2&nbsp;&nbsp;</span>Workflow</a></span></li><li><span><a href=\"#The-server-state\" data-toc-modified-id=\"The-server-state-3.3\"><span class=\"toc-item-num\">3.3&nbsp;&nbsp;</span>The server state</a></span></li></ul></li><li><span><a href=\"#A-quick-walkthrough-of-the-gRPC-API\" data-toc-modified-id=\"A-quick-walkthrough-of-the-gRPC-API-4\"><span class=\"toc-item-num\">4&nbsp;&nbsp;</span>A quick walkthrough of the gRPC API</a></span><ul class=\"toc-item\"><li><span><a href=\"#ApplyTactic-request\" data-toc-modified-id=\"ApplyTactic-request-4.1\"><span class=\"toc-item-num\">4.1&nbsp;&nbsp;</span><code>ApplyTactic</code> request</a></span></li><li><span><a href=\"#VerifyProof-request\" data-toc-modified-id=\"VerifyProof-request-4.2\"><span class=\"toc-item-num\">4.2&nbsp;&nbsp;</span><code>VerifyProof</code> request</a></span></li><li><span><a href=\"#RegisterTheorem-request\" data-toc-modified-id=\"RegisterTheorem-request-4.3\"><span class=\"toc-item-num\">4.3&nbsp;&nbsp;</span><code>RegisterTheorem</code> request</a></span></li></ul></li><li><span><a href=\"#Available-tactics\" data-toc-modified-id=\"Available-tactics-5\"><span class=\"toc-item-num\">5&nbsp;&nbsp;</span>Available tactics</a></span></li><li><span><a href=\"#TODO:-Figure-out-how-all-this-fits-into-the-big-workflow-of-using-the-HOList-Dataset.\" data-toc-modified-id=\"TODO:-Figure-out-how-all-this-fits-into-the-big-workflow-of-using-the-HOList-Dataset.-6\"><span class=\"toc-item-num\">6&nbsp;&nbsp;</span>TODO: Figure out how all this fits into the big workflow of using the HOList Dataset.</a></span></li><li><span><a href=\"#Don't-forget-to-shutdown-the-HOList-server-when-done\" data-toc-modified-id=\"Don't-forget-to-shutdown-the-HOList-server-when-done-7\"><span class=\"toc-item-num\">7&nbsp;&nbsp;</span>Don't forget to shutdown the HOList server when done</a></span></li></ul></div>"
   ]
  },
  {
   "cell_type": "markdown",
   "metadata": {},
   "source": [
    "## Running this notebook"
   ]
  },
  {
   "cell_type": "markdown",
   "metadata": {},
   "source": [
    "### Instructions for opening this notebook (tested in MacOS with Python 3.7)\n",
    "Clone repository\n",
    "```bash \n",
    "$ git clone https://github.com/jasonrute/holist-communication-example\n",
    "$ cd holist-communication-example\n",
    "```\n",
    "\n",
    "Make new virtual environment using Python's built in venv (virtualenv and conda should also work).\n",
    "```bash\n",
    "$ python3.7 -m venv venv  # make a new virtual env\n",
    "$ source venv/bin/activate\n",
    "$ python -m pip install --upgrade pip\n",
    "```\n",
    "\n",
    "Install GRPC and Jupyter.\n",
    "```\n",
    "python -m pip install -r requirements.txt\n",
    "```\n",
    "\n",
    "Run Jupyter\n",
    "```\n",
    "jupyter notebook\n",
    "```\n",
    "\n",
    "Open the `walkthrough_of_holist_api` and you should be all set."
   ]
  },
  {
   "cell_type": "code",
   "execution_count": 2,
   "metadata": {},
   "outputs": [],
   "source": [
    "import time\n",
    "\n",
    "import grpc\n",
    "\n",
    "# automatically generated protobuf and grpc python files\n",
    "import proof_assistant_pb2\n",
    "import proof_assistant_pb2_grpc"
   ]
  },
  {
   "cell_type": "markdown",
   "metadata": {},
   "source": [
    "## Start the HOList server"
   ]
  },
  {
   "cell_type": "code",
   "execution_count": 3,
   "metadata": {},
   "outputs": [],
   "source": [
    "PORT = 'localhost:2000'"
   ]
  },
  {
   "cell_type": "markdown",
   "metadata": {},
   "source": [
    "You must have [Docker](https://www.docker.com) installed and running.  The following command starts the HOList server and exposes port 2000."
   ]
  },
  {
   "cell_type": "code",
   "execution_count": 3,
   "metadata": {},
   "outputs": [
    {
     "name": "stdout",
     "output_type": "stream",
     "text": [
      "Got permission denied while trying to connect to the Docker daemon socket at unix:///var/run/docker.sock: Post \"http://%2Fvar%2Frun%2Fdocker.sock/v1.24/containers/holist/stop\": dial unix /var/run/docker.sock: connect: permission denied\r\n"
     ]
    }
   ],
   "source": [
    "# shut down the server in case it is running so that we have a clean start\n",
    "! docker stop holist && docker rm holist"
   ]
  },
  {
   "cell_type": "code",
   "execution_count": 5,
   "metadata": {},
   "outputs": [
    {
     "name": "stdout",
     "output_type": "stream",
     "text": [
      "[sudo] password for sean: \n"
     ]
    }
   ],
   "source": [
    "# run the docker container on the command line \n",
    "! sudo docker run -d -p 2000:2000 --name=holist gcr.io/deepmath/hol-light"
   ]
  },
  {
   "cell_type": "markdown",
   "metadata": {},
   "source": [
    "**IMPORTANT: The docker container needs to be shut down when finished.**\n",
    "To shut down, on the command line, run \n",
    "```bash\n",
    "$ docker stop holist && docker rm holist\n",
    "```\n",
    "or in this notebook, run\n",
    "```python\n",
    "! docker stop holist && docker rm holist\n",
    "```"
   ]
  },
  {
   "cell_type": "markdown",
   "metadata": {},
   "source": [
    "Testing that the gRPC can communicate with the server"
   ]
  },
  {
   "cell_type": "code",
   "execution_count": 4,
   "metadata": {},
   "outputs": [
    {
     "name": "stdout",
     "output_type": "stream",
     "text": [
      "Attempting to communicate with HOList server via localhost:2000 ...\n",
      "Success!\n"
     ]
    }
   ],
   "source": [
    "print(\"Attempting to communicate with HOList server via\", PORT, \"...\")\n",
    "\n",
    "time.sleep(10) # give the server time to start up\n",
    "\n",
    "with grpc.insecure_channel(PORT) as channel:\n",
    "    stub = proof_assistant_pb2_grpc.ProofAssistantServiceStub(channel)\n",
    "    \n",
    "    trivial_theorem = proof_assistant_pb2.Theorem(\n",
    "        name=\"True\",\n",
    "        conclusion=\"(c (bool) T)\",  # True\n",
    "        training_split=proof_assistant_pb2.Theorem.Split.TESTING,\n",
    "        tag=proof_assistant_pb2.Theorem.Tag.THEOREM,\n",
    "    )\n",
    "    request = proof_assistant_pb2.ApplyTacticRequest(goal=trivial_theorem, tactic=\"ITAUT\")\n",
    "    \n",
    "    # will fail if can't connect to server\n",
    "    response = stub.ApplyTactic(request)\n",
    "    \n",
    "    print(\"Success!\")"
   ]
  },
  {
   "cell_type": "markdown",
   "metadata": {},
   "source": [
    "## Interacting with the server: big picture"
   ]
  },
  {
   "cell_type": "markdown",
   "metadata": {},
   "source": [
    "### Theorem proving\n",
    "One can think of tactic-based theorem proving as a type of one-player board game, or as a puzzle like the Rubik's cube.  There is a starting state (e.g. a shuffled Rubik's cube), intermediate states (e.g. a partially solved Rubik's cube), a desired final state (a solved Rubik's cube), and a set of actions one can do each turn (e.g. move the Rubik's cube). In HOL Light, it is the same.  A state in this case is a list of *goals*, and the actions are called *tactics*.  However, unlike a Rubik's cube or a board game, the tactic actions can be quite complicated, even referring to previously proved theorems.\n",
    "\n",
    "Hence the big picture of the HOList interface is that it provides 3 ways to call the server:\n",
    "\n",
    "1. Apply a tactic to a goal.  This is basically performing one action in the attempt to prove a goal.\n",
    "2. Verify proof.  This is verifying that a proof (a list of tactics) is correct.\n",
    "3. Register a theorem (or definition).  This is the way to add dependency theorems that a tactic can refer to.  If I want to prove that `1 + 2 = 2 + 1`, I can use the theorem that addition is commutative.  To do that, I have to add this to the list of theorems that the server maintains.\n",
    "\n",
    "Below we will go into details about all these server calls, but it is good to know that they are outlined in the file `proof_assistant.proto`, particularly, these lines: \n",
    "```proto\n",
    "service ProofAssistantService {\n",
    "  // Apply a tactic to a goal, potentially generating new subgoals.\n",
    "  rpc ApplyTactic(ApplyTacticRequest) returns (ApplyTacticResponse) {}\n",
    "\n",
    "  // Verify that a sequence of tactics proves a goal using the proof assistant.\n",
    "  rpc VerifyProof(VerifyProofRequest) returns (VerifyProofResponse) {}\n",
    "\n",
    "  // Register a new theorem with the proof assistant and verify/generate\n",
    "  // its fingerprint. The theorem will be assumed as one that can be used\n",
    "  // as a valid premise for later proofs.\n",
    "  rpc RegisterTheorem(RegisterTheoremRequest)\n",
    "      returns (RegisterTheoremResponse) {}\n",
    "}\n",
    "```\n",
    "\n",
    "### Workflow\n",
    "The intended workflow to use this server seems to be the following:\n",
    "1. Compile a list of theorems along with their proofs.  (HOList provides this.)\n",
    "2. In order, do the following for each theorem in the test set:\n",
    "   1. Repeatedly use the `ApplyTactic` requests to try to prove a theorem, using backtracking.  Can refer to earlier added theorems and definitions.\n",
    "   2. Use the `VerifyProof` request to verify that a proof is correct.  (This is probably not the proof one just found, but one supplied in the training data.)\n",
    "   3. Use the `RegisterTheorem` request to add that theorem to the list of available theorems.  Note, it has to be the most recently verified proof for this to work.  Now this theorem is available as a premise for future theorems."
   ]
  },
  {
   "cell_type": "markdown",
   "metadata": {},
   "source": [
    "### The server state\n",
    "\n",
    "It is important to observe that the HOList server is **stateful**.  The server maintains an internal list of theorems and definitions.  This list starts out empty, but can be added to later.  These theorems and definitions can be used as premises to prove other theorems.\n",
    "\n",
    "It does not however store the current goal state.  You have to supply that in the server call.  This makes tree search and backtracking easy, since there is no concept of a \"current goal state\" in the server."
   ]
  },
  {
   "cell_type": "markdown",
   "metadata": {},
   "source": [
    "## A quick walkthrough of the gRPC API"
   ]
  },
  {
   "cell_type": "markdown",
   "metadata": {},
   "source": [
    "### `ApplyTactic` request\n",
    "The request is a combination of a goal and a tactic.  The type of the goal is a `Theorem` object and the type of the tactic is a plain string.  \n",
    "\n",
    "The response is a list of new goals to solve.  If the list is empty, then that tactic solved that goal."
   ]
  },
  {
   "cell_type": "markdown",
   "metadata": {},
   "source": [
    "Theorem objects have a name, a conclusion (that which is being proved) and some more labels which have to be filled in.  The conclusion is a LISP-like s-expression based on the internal HOL Light language.  It is hard to read by a human.  Here is a quick tutorial:\n",
    "- `(a F x)` means apply a function F to an object x (just written `F x` in functional programming).\n",
    "- `(c T x)` is referring to the constant value x, which has type T (`x : T` in functional programming notation).\n",
    "- `(v T x)` is similar, but for a variable x with type T.  \n",
    "- `(fun A B)` is a function type constructor (`A -> B` in functional programming).  \n",
    "- `(l v f)` is a lambda term (`lambda v. f`, or similar, in functional programming).\n",
    "- `!` is \"for all\" which has type `(A -> bool) -> bool`\n",
    "- `?` is \"exists\"\n",
    "- `=` has type `A -> A -> bool`"
   ]
  },
  {
   "cell_type": "code",
   "execution_count": 5,
   "metadata": {},
   "outputs": [],
   "source": [
    "# A basic theorem\n",
    "eq_refl = proof_assistant_pb2.Theorem(\n",
    "    name=\"EQ_REFL\",\n",
    "    conclusion=\"(a (c (fun (fun A (bool)) (bool)) !) (l (v A x) (a (a (c (fun A (fun A (bool))) =) (v A x)) (v A x))))\",\n",
    "    training_split=proof_assistant_pb2.Theorem.Split.TESTING,\n",
    "    tag=proof_assistant_pb2.Theorem.Tag.THEOREM,\n",
    ")"
   ]
  },
  {
   "cell_type": "markdown",
   "metadata": {},
   "source": [
    "More on tactics later, but for now it is enough to know that a tactic is written as a string in a modified form of HOL Light's tactic DSL. Some tactics take no parameters, a single parameter, or a list of parameters.  `[ ]` means an empty list of parameters (spaces are important here)."
   ]
  },
  {
   "cell_type": "code",
   "execution_count": 6,
   "metadata": {},
   "outputs": [],
   "source": [
    "# a simplying tactic with no parameters\n",
    "simp_tac_no_params = 'SIMP_TAC [ ]'"
   ]
  },
  {
   "cell_type": "code",
   "execution_count": 7,
   "metadata": {},
   "outputs": [
    {
     "name": "stdout",
     "output_type": "stream",
     "text": [
      "Request:\n",
      "goal {\n",
      "  conclusion: \"(a (c (fun (fun A (bool)) (bool)) !) (l (v A x) (a (a (c (fun A (fun A (bool))) =) (v A x)) (v A x))))\"\n",
      "  tag: THEOREM\n",
      "  name: \"EQ_REFL\"\n",
      "  training_split: TESTING\n",
      "}\n",
      "tactic: \"SIMP_TAC [ ]\"\n",
      "\n",
      "Response:\n",
      "goals {\n",
      "}\n",
      "\n"
     ]
    }
   ],
   "source": [
    "# simplification is enough to prove reflection of equality\n",
    "with grpc.insecure_channel(PORT) as channel:\n",
    "    stub = proof_assistant_pb2_grpc.ProofAssistantServiceStub(channel)\n",
    "\n",
    "    request = proof_assistant_pb2.ApplyTacticRequest(goal=eq_refl, tactic=simp_tac_no_params)\n",
    "    print(\"Request:\")\n",
    "    print(request)\n",
    "\n",
    "    response = stub.ApplyTactic(request)\n",
    "    print(\"Response:\")\n",
    "    print(response)"
   ]
  },
  {
   "cell_type": "markdown",
   "metadata": {},
   "source": [
    "A response of\n",
    "```proto\n",
    "goals { }\n",
    "```\n",
    "means the goal has been solved!"
   ]
  },
  {
   "cell_type": "markdown",
   "metadata": {},
   "source": [
    "Let's try to prove something a bit more difficult."
   ]
  },
  {
   "cell_type": "code",
   "execution_count": null,
   "metadata": {},
   "outputs": [],
   "source": []
  },
  {
   "cell_type": "code",
   "execution_count": 8,
   "metadata": {},
   "outputs": [],
   "source": [
    "for_all_x_exists_y_x_equals_y = proof_assistant_pb2.Theorem(\n",
    "    name=\"FORALL_X_EXISTS_Y_SUCH_THAT_X_EQUALS_Y\",\n",
    "    conclusion=\"(a (c (fun (fun A (bool)) (bool)) !) (l (v A x) (a (c (fun (fun A (bool)) (bool)) ?) (l (v A y) (a (a (c (fun A (fun A (bool))) =) (v A x)) (v A y))))))\",\n",
    "    training_split=proof_assistant_pb2.Theorem.Split.TESTING,\n",
    "    tag=proof_assistant_pb2.Theorem.Tag.THEOREM,\n",
    ")"
   ]
  },
  {
   "cell_type": "code",
   "execution_count": 149,
   "metadata": {},
   "outputs": [
    {
     "name": "stdout",
     "output_type": "stream",
     "text": [
      "Remove the forall x\n",
      "\n",
      "Request:\n",
      "goal {\n",
      "  conclusion: \"(a (c (fun (fun A (bool)) (bool)) !) (l (v A x) (a (c (fun (fun A (bool)) (bool)) ?) (l (v A y) (a (a (c (fun A (fun A (bool))) =) (v A x)) (v A y))))))\"\n",
      "  tag: THEOREM\n",
      "  name: \"FORALL_X_EXISTS_Y_SUCH_THAT_X_EQUALS_Y\"\n",
      "  training_split: TESTING\n",
      "}\n",
      "tactic: \"GEN_TAC\"\n",
      "\n",
      "Response:\n",
      "goals {\n",
      "  goals {\n",
      "    conclusion: \"(a (c (fun (fun A (bool)) (bool)) ?) (l (v A y) (a (a (c (fun A (fun A (bool))) =) (v A x)) (v A y))))\"\n",
      "    tag: GOAL\n",
      "    pretty_printed: \"\\n`?y. x = y`\\n\"\n",
      "  }\n",
      "}\n",
      "\n",
      "Specify that exists y is satisfied by y = x\n",
      "\n",
      "Request:\n",
      "goal {\n",
      "  conclusion: \"(a (c (fun (fun A (bool)) (bool)) ?) (l (v A y) (a (a (c (fun A (fun A (bool))) =) (v A x)) (v A y))))\"\n",
      "  tag: GOAL\n",
      "  pretty_printed: \"\\n`?y. x = y`\\n\"\n",
      "}\n",
      "tactic: \"EXISTS_TAC `(v A x)`\"\n",
      "\n",
      "Response:\n",
      "goals {\n",
      "  goals {\n",
      "    conclusion: \"(a (a (c (fun A (fun A (bool))) =) (v A x)) (v A x))\"\n",
      "    tag: GOAL\n",
      "    pretty_printed: \"\\n`x = x`\\n\"\n",
      "  }\n",
      "}\n",
      "\n",
      "Simplify to solve\n",
      "\n",
      "Request:\n",
      "goal {\n",
      "  conclusion: \"(a (a (c (fun A (fun A (bool))) =) (v A x)) (v A x))\"\n",
      "  tag: GOAL\n",
      "  pretty_printed: \"\\n`x = x`\\n\"\n",
      "}\n",
      "tactic: \"SIMP_TAC [ ]\"\n",
      "\n",
      "Response:\n",
      "goals {\n",
      "}\n",
      "\n"
     ]
    }
   ],
   "source": [
    "with grpc.insecure_channel(PORT) as channel:\n",
    "    stub = proof_assistant_pb2_grpc.ProofAssistantServiceStub(channel)\n",
    "\n",
    "    print(\"Remove the forall x\")\n",
    "    print()\n",
    "    \n",
    "    request1 = proof_assistant_pb2.ApplyTacticRequest(goal=for_all_x_exists_y_x_equals_y, tactic=\"GEN_TAC\")\n",
    "    print(\"Request:\")\n",
    "    print(request1)\n",
    "\n",
    "    response1 = stub.ApplyTactic(request1)\n",
    "    print(\"Response:\")\n",
    "    print(response1)\n",
    "    \n",
    "    print(\"Specify that exists y is satisfied by y = x\")\n",
    "    print()\n",
    "    \n",
    "    request2 = proof_assistant_pb2.ApplyTacticRequest(goal=response1.goals.goals[0], tactic=\"EXISTS_TAC `(v A x)`\")\n",
    "    print(\"Request:\")\n",
    "    print(request2)\n",
    "\n",
    "    response2 = stub.ApplyTactic(request2)\n",
    "    print(\"Response:\")\n",
    "    print(response2)\n",
    "    \n",
    "    print(\"Simplify to solve\")\n",
    "    print()\n",
    "    \n",
    "    request3 = proof_assistant_pb2.ApplyTacticRequest(goal=response2.goals.goals[0], tactic=\"SIMP_TAC [ ]\")\n",
    "    print(\"Request:\")\n",
    "    print(request3)\n",
    "\n",
    "    response3 = stub.ApplyTactic(request3)\n",
    "    print(\"Response:\")\n",
    "    print(response3)"
   ]
  },
  {
   "cell_type": "code",
   "execution_count": 10,
   "metadata": {},
   "outputs": [
    {
     "data": {
      "text/plain": [
       "goals {\n",
       "}"
      ]
     },
     "execution_count": 10,
     "metadata": {},
     "output_type": "execute_result"
    }
   ],
   "source": [
    "response3"
   ]
  },
  {
   "cell_type": "markdown",
   "metadata": {},
   "source": [
    "It is also possible to get back a failure as a response.  This happens if the tactic is not applicable to that goal, or if it just fails to make progress on the goal."
   ]
  },
  {
   "cell_type": "code",
   "execution_count": 140,
   "metadata": {},
   "outputs": [
    {
     "name": "stdout",
     "output_type": "stream",
     "text": [
      "Request:\n",
      "goal {\n",
      "  conclusion: \"(a (c (fun (fun A (bool)) (bool)) !) (l (v A x) (a (c (fun (fun A (bool)) (bool)) ?) (l (v A y) (a (a (c (fun A (fun A (bool))) =) (v A x)) (v A y))))))\"\n",
      "  tag: THEOREM\n",
      "  name: \"FORALL_X_EXISTS_Y_SUCH_THAT_X_EQUALS_Y\"\n",
      "  training_split: TESTING\n",
      "}\n",
      "tactic: \"EXISTS_TAC `(v A y)`\"\n",
      "\n",
      "Response:\n",
      "error: \"Failure(\\\"EXISTS_TAC: Goal not existentially quantified\\\")\"\n",
      "\n"
     ]
    }
   ],
   "source": [
    "with grpc.insecure_channel(PORT) as channel:\n",
    "    stub = proof_assistant_pb2_grpc.ProofAssistantServiceStub(channel)\n",
    "\n",
    "    request = proof_assistant_pb2.ApplyTacticRequest(goal=for_all_x_exists_y_x_equals_y, tactic=\"EXISTS_TAC `(v A y)`\")\n",
    "    print(\"Request:\")\n",
    "    print(request)\n",
    "\n",
    "    response = stub.ApplyTactic(request)\n",
    "    print(\"Response:\")\n",
    "    print(response)"
   ]
  },
  {
   "cell_type": "markdown",
   "metadata": {},
   "source": [
    "### `VerifyProof` request"
   ]
  },
  {
   "cell_type": "markdown",
   "metadata": {},
   "source": [
    "The request is a goal, a theorem (the same?), and a proof (as a list of strings of tactic commands).  The response is a boolean saying the proof has been verified (or an error)."
   ]
  },
  {
   "cell_type": "markdown",
   "metadata": {},
   "source": [
    "Here we verify the theorem from earlier."
   ]
  },
  {
   "cell_type": "code",
   "execution_count": 139,
   "metadata": {},
   "outputs": [
    {
     "name": "stdout",
     "output_type": "stream",
     "text": [
      "Request:\n",
      "goal {\n",
      "  conclusion: \"(a (c (fun (fun A (bool)) (bool)) !) (l (v A x) (a (c (fun (fun A (bool)) (bool)) ?) (l (v A y) (a (a (c (fun A (fun A (bool))) =) (v A x)) (v A y))))))\"\n",
      "  tag: THEOREM\n",
      "  name: \"FORALL_X_EXISTS_Y_SUCH_THAT_X_EQUALS_Y\"\n",
      "  training_split: TESTING\n",
      "}\n",
      "tactics: \"GEN_TAC\"\n",
      "tactics: \"EXISTS_TAC `(v A x)`\"\n",
      "tactics: \"SIMP_TAC [ ]\"\n",
      "theorem {\n",
      "  conclusion: \"(a (c (fun (fun A (bool)) (bool)) !) (l (v A x) (a (c (fun (fun A (bool)) (bool)) ?) (l (v A y) (a (a (c (fun A (fun A (bool))) =) (v A x)) (v A y))))))\"\n",
      "  tag: THEOREM\n",
      "  name: \"FORALL_X_EXISTS_Y_SUCH_THAT_X_EQUALS_Y\"\n",
      "  training_split: TESTING\n",
      "}\n",
      "\n",
      "Response:\n",
      "sound: true\n",
      "\n"
     ]
    }
   ],
   "source": [
    "with grpc.insecure_channel(PORT) as channel:\n",
    "    stub = proof_assistant_pb2_grpc.ProofAssistantServiceStub(channel)\n",
    "\n",
    "    request = proof_assistant_pb2.VerifyProofRequest(\n",
    "        goal=for_all_x_exists_y_x_equals_y, \n",
    "        theorem=for_all_x_exists_y_x_equals_y, \n",
    "        tactics=[\n",
    "            \"GEN_TAC\",\n",
    "            \"EXISTS_TAC `(v A x)`\",\n",
    "            \"SIMP_TAC [ ]\",\n",
    "        ]\n",
    "    )\n",
    "    \n",
    "    print(\"Request:\")\n",
    "    print(request)\n",
    "\n",
    "    response = stub.VerifyProof(request)\n",
    "    print(\"Response:\")\n",
    "    print(response)"
   ]
  },
  {
   "cell_type": "markdown",
   "metadata": {},
   "source": [
    "### `RegisterTheorem` request"
   ]
  },
  {
   "cell_type": "markdown",
   "metadata": {},
   "source": [
    "The request is a theorem (or definition) to add.  The response is the fingerprint of the theorem."
   ]
  },
  {
   "cell_type": "markdown",
   "metadata": {},
   "source": [
    "**This theorem has to be the one from the most recent call of VerifyProof for this to work.**"
   ]
  },
  {
   "cell_type": "code",
   "execution_count": 13,
   "metadata": {},
   "outputs": [
    {
     "name": "stdout",
     "output_type": "stream",
     "text": [
      "Request:\n",
      "theorem {\n",
      "  conclusion: \"(a (c (fun (fun A (bool)) (bool)) !) (l (v A x) (a (c (fun (fun A (bool)) (bool)) ?) (l (v A y) (a (a (c (fun A (fun A (bool))) =) (v A x)) (v A y))))))\"\n",
      "  tag: THEOREM\n",
      "  name: \"FORALL_X_EXISTS_Y_SUCH_THAT_X_EQUALS_Y\"\n",
      "  training_split: TESTING\n",
      "}\n",
      "\n",
      "Response:\n",
      "fingerprint: 2679395207268212325\n",
      "\n"
     ]
    }
   ],
   "source": [
    "with grpc.insecure_channel(PORT) as channel:\n",
    "    stub = proof_assistant_pb2_grpc.ProofAssistantServiceStub(channel)\n",
    "\n",
    "    request = proof_assistant_pb2.RegisterTheoremRequest(\n",
    "        theorem=for_all_x_exists_y_x_equals_y\n",
    "    )\n",
    "    \n",
    "    print(\"Request:\")\n",
    "    print(request)\n",
    "\n",
    "    response = stub.RegisterTheorem(request)\n",
    "    print(\"Response:\")\n",
    "    print(response)\n",
    "    \n",
    "    for_all_x_exists_y_x_equals_y_fingerprint = response.fingerprint"
   ]
  },
  {
   "cell_type": "markdown",
   "metadata": {},
   "source": [
    "This fingerprint can be used as a parameter for other tactic calls."
   ]
  },
  {
   "cell_type": "code",
   "execution_count": 14,
   "metadata": {},
   "outputs": [],
   "source": [
    "example1 = proof_assistant_pb2.Theorem(\n",
    "    name=\"EXISTS_X_SUCH_THAT_TRUE_EQUALS_X\",\n",
    "    conclusion=\"(a (c (fun (fun (bool) (bool)) (bool)) ?) (l (v (bool) x) (a (a (c (fun (bool) (fun (bool) (bool))) =) (c (bool) T)) (v (bool) x))))\",\n",
    "    training_split=proof_assistant_pb2.Theorem.Split.TESTING,\n",
    "    tag=proof_assistant_pb2.Theorem.Tag.THEOREM,\n",
    ")"
   ]
  },
  {
   "cell_type": "code",
   "execution_count": 145,
   "metadata": {},
   "outputs": [
    {
     "name": "stdout",
     "output_type": "stream",
     "text": [
      "Request:\n",
      "goal {\n",
      "  conclusion: \"(a (c (fun (fun (bool) (bool)) (bool)) ?) (l (v (bool) x) (a (a (c (fun (bool) (fun (bool) (bool))) =) (c (bool) T)) (v (bool) x))))\"\n",
      "  tag: THEOREM\n",
      "  name: \"EXISTS_X_SUCH_THAT_TRUE_EQUALS_X\"\n",
      "  training_split: TESTING\n",
      "}\n",
      "tactic: \"SIMP_TAC [ THM 2679395207268212325 ]\"\n",
      "\n",
      "Response:\n",
      "goals {\n",
      "}\n",
      "\n"
     ]
    }
   ],
   "source": [
    "with grpc.insecure_channel(PORT) as channel:\n",
    "    stub = proof_assistant_pb2_grpc.ProofAssistantServiceStub(channel)\n",
    "\n",
    "    request = proof_assistant_pb2.ApplyTacticRequest(goal=example1, tactic=\"SIMP_TAC [ THM {} ]\".format(for_all_x_exists_y_x_equals_y_fingerprint))\n",
    "    print(\"Request:\")\n",
    "    print(request)\n",
    "\n",
    "    response = stub.ApplyTactic(request)\n",
    "    print(\"Response:\")\n",
    "    print(response)"
   ]
  },
  {
   "cell_type": "markdown",
   "metadata": {},
   "source": [
    "Again, a theorem can't be registered unless it is the most recently verified proof.  **In some cases (such as if there are no registed proofs yet, the error message can be quite cryptic).**"
   ]
  },
  {
   "cell_type": "code",
   "execution_count": 16,
   "metadata": {},
   "outputs": [
    {
     "name": "stdout",
     "output_type": "stream",
     "text": [
      "Request:\n",
      "theorem {\n",
      "  conclusion: \"(a (c (fun (fun (bool) (bool)) (bool)) ?) (l (v (bool) x) (a (a (c (fun (bool) (fun (bool) (bool))) =) (c (bool) T)) (v (bool) x))))\"\n",
      "  tag: THEOREM\n",
      "  name: \"EXISTS_X_SUCH_THAT_TRUE_EQUALS_X\"\n",
      "  training_split: TESTING\n",
      "}\n",
      "\n",
      "Response:\n",
      "fingerprint: 2193973276563729542\n",
      "\n"
     ]
    }
   ],
   "source": [
    "with grpc.insecure_channel(PORT) as channel:\n",
    "    stub = proof_assistant_pb2_grpc.ProofAssistantServiceStub(channel)\n",
    "\n",
    "    request = proof_assistant_pb2.RegisterTheoremRequest(\n",
    "        theorem=example1\n",
    "    )\n",
    "    \n",
    "    print(\"Request:\")\n",
    "    print(request)\n",
    "\n",
    "    response = stub.RegisterTheorem(request)\n",
    "    print(\"Response:\")\n",
    "    print(response)"
   ]
  },
  {
   "cell_type": "markdown",
   "metadata": {},
   "source": [
    "**TODO: Show how to register definitions**"
   ]
  },
  {
   "cell_type": "markdown",
   "metadata": {},
   "source": [
    "## Available tactics"
   ]
  },
  {
   "cell_type": "markdown",
   "metadata": {},
   "source": [
    "The tactic argument in Apply tactic is a modified form of HOL Light code.  Below is a list of tactics and how to call them.  See here for HOL Light documentation: https://www.cl.cam.ac.uk/~jrh13/hol-light/reference.html."
   ]
  },
  {
   "cell_type": "code",
   "execution_count": 17,
   "metadata": {},
   "outputs": [],
   "source": [
    "# tactics which take no arguements\n",
    "abs_tac = \"ABS_TAC\"\n",
    "ants_tac = \"ANTS_TAC\"\n",
    "arith_tac = \"ARITH_TAC\"\n",
    "cheat_tac = \"CHEAT_TAC\"  # NEVER USE EXCEPT FOR TESTING!\n",
    "conj_tac = \"CONJ_TAC\"\n",
    "disch_tac = \"DISCH_TAC\"\n",
    "disj1_tac = \"DISJ1_TAC\"\n",
    "disj2_tac = \"DISJ2_TAC\"\n",
    "eq_tac = \"EQ_TAC\"\n",
    "gen_tac = \"GEN_TAC\"\n",
    "itaut_tac = \"ITAUT_TAC\"\n",
    "mk_comb_tac = \"MK_COMB_TAC\"\n",
    "raw_pop_all_tac = \"RAW_POP_ALL_TAC\"\n",
    "real_arith_tac = \"REAL_ARITH_TAC\"  # Calc_rat.REAL_ARITH_TAC in HOL Light\n",
    "real_arith_tac2 = \"REAL_ARITH_TAC2\"  # Reals.REAL_ARITH_TAC in HOL Light\n",
    "refl_tac = \"REFL_TAC\"\n",
    "\n",
    "# tactics which take a single theorem as a parameter\n",
    "# The theorem is entered as \"THM n\" where n is the fingerprint of the theorem\n",
    "accept_tac = lambda th: \"ACCEPT_TAC THM {}\".format(th)\n",
    "backchain_tac = lambda th: \"BACKCHAIN_TAC THM {}\".format(th)\n",
    "choose_tac = lambda th: \"CHOOSE_TAC THM {}\".format(th)\n",
    "contr_tac = lambda th: \"CONTR_TAC THM {}\".format(th)\n",
    "disj_cases_tac = lambda th: \"DISJ_CASES_TAC THM {}\".format(th)\n",
    "match_accept_tac = lambda th: \"MATCH_ACCEPT_TAC THM {}\".format(th)\n",
    "match_mp_tac = lambda th: \"MATCH_MP_TAC THM {}\".format(th)\n",
    "mp_tac = lambda th: \"MP_TAC THM {}\".format(th)\n",
    "raw_conjuncts_tac = lambda th: \"RAW_CONJUNCTS_TAC THM {}\".format(th)\n",
    "subst1_tac = lambda th: \"SUBST1_TAC THM {}\".format(th)\n",
    "\n",
    "\n",
    "# tactics which take a list of theorems (possibly empty) as a parameter\n",
    "# The theorems are entered as a list \"[ THM n1 ; THM n2 ; ... ]\" \n",
    "# where n1, n2, ... are the fingerprints of the theorems\n",
    "asm_meson_tac = lambda thms: \"ASM_MESON_TAC [ {} ]\".format(\" ; \".join(\"THM {}\".format(thm) for thm in thms))\n",
    "asm_metis_tac = lambda thms: \"ASM_METIS_TAC [ {} ]\".format(\" ; \".join(\"THM {}\".format(thm) for thm in thms))\n",
    "meson_tac = lambda thms: \"MESON_TAC [ {} ]\".format(\" ; \".join(\"THM {}\".format(thm) for thm in thms))\n",
    "once_rewrite_tac = lambda thms: \"ONCE_REWRITE_TAC [ {} ]\".format(\" ; \".join(\"THM {}\".format(thm) for thm in thms))\n",
    "pure_once_rewrite_tac = lambda thms: \"PURE_ONCE_REWRITE_TAC [ {} ]\".format(\" ; \".join(\"THM {}\".format(thm) for thm in thms))\n",
    "pure_rewrite_tac = lambda thms: \"PURE_REWRITE_TAC [ {} ]\".format(\" ; \".join(\"THM {}\".format(thm) for thm in thms))\n",
    "rewrite_tac = lambda thms: \"REWRITE_TAC [ {} ]\".format(\" ; \".join(\"THM {}\".format(thm) for thm in thms))\n",
    "simp_tac = lambda thms: \"SIMP_TAC [ {} ]\".format(\" ; \".join(\"THM {}\".format(thm) for thm in thms))\n",
    "                                  \n",
    "# tactics which take a single term as a parameter\n",
    "# the term is entered as an s-exp surronded by backticks (in the same syntax as terms in the the goal) \n",
    "# For example a boolean variable x would be entered as \"`(v bool x)`\"\n",
    "exists_tac = lambda tm: \"EXISTS_TAC `{}`\".format(tm)\n",
    "raw_subgoal_tac = lambda tm: \"RAW_SUBGOAL_TAC `{}`\".format(tm)\n",
    "trans_tac = lambda tm: \"TRANS_TAC `{}`\".format(tm)\n",
    "undisch_tac = lambda tm: \"UNDISCH_TAC `{}`\".format(tm)\n",
    "x_gen_tac = lambda tm: \"X_GEN_TAC `{}`\".format(tm)\n",
    "             \n",
    "# tactics which take a conversion as a parameter (see below)\n",
    "conv_tac = lambda conv: \"CONV_TAC {}\".format(conv)\n",
    "\n",
    "# tactics which take a conversion function and a theorem list as parameters (see below)\n",
    "gen_rewrite_tac = lambda convfn, thms: \"GEN_REWRITE_TAC {} [ {} ]\".format(convfn, \" ; \".join(\"THM {}\".format(thm) for thm in thms))\n",
    "   \n",
    "# tactics which take positive integers as parameters\n",
    "raw_pop_tac = lambda n: \"RAW_POP_TAC {}\".format(n)\n",
    "    \n",
    "# tactics which take two terms (each s-exp in backquotes) as parameters\n",
    "spec_tac = lambda tm1, tm2: \"SPEC_TAC `{}` `{}`\".format(tm1, tm2)\n",
    "    \n",
    "# tactics which take a term and a theorem as parameters\n",
    "x_choose_tac = lambda tm, th: \"X_CHOOSE_TAC `{}` THM th\".format(tm, th)"
   ]
  },
  {
   "cell_type": "markdown",
   "metadata": {},
   "source": [
    "For the `CONV_TAC` and `GEN_REWRITE_TAC` tactics one needs to supply a conversion or conversion function.  Here are the available conversions."
   ]
  },
  {
   "cell_type": "code",
   "execution_count": 18,
   "metadata": {},
   "outputs": [],
   "source": [
    "# HOL Light conversions\n",
    "beta_conv = \"BETA_CONV\"\n",
    "contrapos_conv = \"CONTRAPOS_CONV\"\n",
    "gen_beta_conv = \"GEN_BETA_CONV\"\n",
    "num_reduce_conv = \"NUM_REDUCE_CONV\"\n",
    "real_rat_reduce_conv = \"REAL_RAT_REDUCE_CONV\"\n",
    "sym_conv = \"SYM_CONV\"\n",
    "\n",
    "# Apply a conversion function to a conversion\n",
    "apply = lambda convfn, conv: \"APPLY {} {}\".format(convfn, conv)\n",
    "\n",
    "# HOL Light conversion functions\n",
    "binder_conv = \"BINDER_CONV\"\n",
    "binop_conv = \"BINOP_CONV\"\n",
    "land_conv = \"LAND_CONV\"\n",
    "once_depth_conv = \"ONCE_DEPTH_CONV\"\n",
    "rand_conv = \"RAND_CONV\"\n",
    "rator_conv = \"RATOR_CONV\"\n",
    "redepth_conv = \"REDEPTH_CONV\"\n",
    "top_depth_conv = \"TOP_DEPTH_CONV\"\n",
    "\n",
    "# Compose a list of conversion functions\n",
    "compose = lambda convfnl: \"COMPOSE [ {} ]\".format(\" ; \".join(convfnl))"
   ]
  },
  {
   "cell_type": "markdown",
   "metadata": {},
   "source": [
    "## TODO: Figure out how all this fits into the big workflow of using the HOList Dataset."
   ]
  },
  {
   "cell_type": "markdown",
   "metadata": {},
   "source": [
    "## Don't forget to shutdown the HOList server when done"
   ]
  },
  {
   "cell_type": "code",
   "execution_count": 22,
   "metadata": {},
   "outputs": [
    {
     "data": {
      "text/plain": [
       "31682"
      ]
     },
     "execution_count": 22,
     "metadata": {},
     "output_type": "execute_result"
    }
   ],
   "source": [
    "#! docker stop holist && docker rm holist\n",
    "\n",
    "import google.protobuf.text_format as tf\n",
    "\n",
    "thm_db = proof_assistant_pb2.TheoremDatabase()\n",
    "\n",
    "# !pwd\n",
    "\n",
    "with open(\"/home/sean/Documents/phd/holist/hollightdata/final/theorem_database_v1.1.textpb\", \"r\") as f:\n",
    "    tf.Parse(f.read(), thm_db)\n",
    "\n",
    "thm_list = thm_db.theorems\n",
    "thm_name = thm_db.name\n",
    "\n",
    "thm_list[1]\n",
    "\n",
    "thm_list[8]\n",
    "\n",
    "len(thm_list)"
   ]
  },
  {
   "cell_type": "code",
   "execution_count": 121,
   "metadata": {
    "scrolled": true
   },
   "outputs": [
    {
     "data": {
      "text/plain": [
       "2"
      ]
     },
     "execution_count": 121,
     "metadata": {},
     "output_type": "execute_result"
    }
   ],
   "source": [
    "import io_util\n",
    "\n",
    "import deephol_pb2\n",
    "\n",
    "prf_log = io_util.read_protos(\"/home/sean/Documents/phd/holist/hollightdata/final/proofs/human/valid/test/prooflogs-00508-of-00528.pbtxts\",deephol_pb2.ProofLog)\n",
    "\n",
    "x = list(prf_log)\n",
    "\n",
    "len(x)"
   ]
  },
  {
   "cell_type": "code",
   "execution_count": 158,
   "metadata": {},
   "outputs": [
    {
     "name": "stdout",
     "output_type": "stream",
     "text": [
      "(2952612442050326466, 'RAW_POP_ALL_TAC', [2952612442050326466])\n",
      "(2952612442050326466, 'REWRITE_TAC', [3295225880719242845])\n",
      "dupe!!!!!!!!!!!!!!!!!!!!\n",
      "(3295225880719242845, 'REWRITE_TAC', 'done')\n"
     ]
    }
   ],
   "source": [
    "prev = \"\"\n",
    "seen = []\n",
    "orig = x[0].nodes[0].goal.fingerprint\n",
    "for node in x[0].nodes:\n",
    "    y = (node.goal.fingerprint, node.proofs[0].tactic, [i.fingerprint for i in node.proofs[0].subgoals] if len(node.proofs[0].subgoals) > 0 else \"done\")\n",
    "    print (y)\n",
    "    \n",
    "    if y[0] in seen:\n",
    "        print (\"dupe\" + 20 * \"!\")\n",
    "    else:\n",
    "        seen.append(y[0])\n",
    "\n",
    "    if y[1] == \"LABEL_TAC\":\n",
    "        print (node)"
   ]
  },
  {
   "cell_type": "code",
   "execution_count": 171,
   "metadata": {},
   "outputs": [],
   "source": [
    "test_goal = x[0].nodes[0].goal"
   ]
  },
  {
   "cell_type": "code",
   "execution_count": 160,
   "metadata": {},
   "outputs": [
    {
     "name": "stdout",
     "output_type": "stream",
     "text": [
      "\n",
      "\n",
      "\n",
      "\n",
      "\n",
      "\n",
      "conclusion: \"(a (a (c (fun (fun ?0 (bool)) (fun (fun ?0 (bool)) (bool))) =) (a (c (fun (fun ?0 (bool)) (fun ?0 (bool))) GSPEC) (l (v ?0 GEN%PVAR%0) (a (c (fun (fun ?0 (bool)) (bool)) ?) (l (v ?0 z) (a (a (a (c (fun ?0 (fun (bool) (fun ?0 (bool)))) SETSPEC) (v ?0 GEN%PVAR%0)) (a (a (c (fun (bool) (fun (bool) (bool))) /\\\\) (a (a (c (fun ?0 (fun (fun ?0 (bool)) (bool))) IN) (v ?0 z)) (v (fun ?0 (bool)) s))) (a (v (fun ?0 (bool)) P) (v ?0 z)))) (v ?0 z))))))) (a (a (c (fun (fun ?0 (bool)) (fun (fun ?0 (bool)) (fun ?0 (bool)))) INTER) (v (fun ?0 (bool)) s)) (a (c (fun (fun ?0 (bool)) (fun ?0 (bool))) GSPEC) (l (v ?0 GEN%PVAR%0) (a (c (fun (fun ?0 (bool)) (bool)) ?) (l (v ?0 z) (a (a (a (c (fun ?0 (fun (bool) (fun ?0 (bool)))) SETSPEC) (v ?0 GEN%PVAR%0)) (a (v (fun ?0 (bool)) P) (v ?0 z))) (v ?0 z))))))))\"\n",
      "tag: THEOREM\n",
      "fingerprint: 2952612442050326466\n",
      "\n",
      "\n",
      "\n",
      "[tactic: \"RAW_POP_ALL_TAC\"\n",
      "subgoals {\n",
      "  conclusion: \"(a (a (c (fun (fun ?0 (bool)) (fun (fun ?0 (bool)) (bool))) =) (a (c (fun (fun ?0 (bool)) (fun ?0 (bool))) GSPEC) (l (v ?0 GEN%PVAR%0) (a (c (fun (fun ?0 (bool)) (bool)) ?) (l (v ?0 z) (a (a (a (c (fun ?0 (fun (bool) (fun ?0 (bool)))) SETSPEC) (v ?0 GEN%PVAR%0)) (a (a (c (fun (bool) (fun (bool) (bool))) /\\\\) (a (a (c (fun ?0 (fun (fun ?0 (bool)) (bool))) IN) (v ?0 z)) (v (fun ?0 (bool)) s))) (a (v (fun ?0 (bool)) P) (v ?0 z)))) (v ?0 z))))))) (a (a (c (fun (fun ?0 (bool)) (fun (fun ?0 (bool)) (fun ?0 (bool)))) INTER) (v (fun ?0 (bool)) s)) (a (c (fun (fun ?0 (bool)) (fun ?0 (bool))) GSPEC) (l (v ?0 GEN%PVAR%0) (a (c (fun (fun ?0 (bool)) (bool)) ?) (l (v ?0 z) (a (a (a (c (fun ?0 (fun (bool) (fun ?0 (bool)))) SETSPEC) (v ?0 GEN%PVAR%0)) (a (v (fun ?0 (bool)) P) (v ?0 z))) (v ?0 z))))))))\"\n",
      "  tag: GOAL\n",
      "  fingerprint: 2952612442050326466\n",
      "}\n",
      "result: SUCCESS\n",
      "closed: true\n",
      "]\n",
      "\n",
      "\n",
      "\n",
      "\n",
      "\n",
      "\n",
      "conclusion: \"(a (a (c (fun (fun ?0 (bool)) (fun (fun ?0 (bool)) (bool))) =) (a (c (fun (fun ?0 (bool)) (fun ?0 (bool))) GSPEC) (l (v ?0 GEN%PVAR%0) (a (c (fun (fun ?0 (bool)) (bool)) ?) (l (v ?0 z) (a (a (a (c (fun ?0 (fun (bool) (fun ?0 (bool)))) SETSPEC) (v ?0 GEN%PVAR%0)) (a (a (c (fun (bool) (fun (bool) (bool))) /\\\\) (a (a (c (fun ?0 (fun (fun ?0 (bool)) (bool))) IN) (v ?0 z)) (v (fun ?0 (bool)) s))) (a (v (fun ?0 (bool)) P) (v ?0 z)))) (v ?0 z))))))) (a (a (c (fun (fun ?0 (bool)) (fun (fun ?0 (bool)) (fun ?0 (bool)))) INTER) (v (fun ?0 (bool)) s)) (a (c (fun (fun ?0 (bool)) (fun ?0 (bool))) GSPEC) (l (v ?0 GEN%PVAR%0) (a (c (fun (fun ?0 (bool)) (bool)) ?) (l (v ?0 z) (a (a (a (c (fun ?0 (fun (bool) (fun ?0 (bool)))) SETSPEC) (v ?0 GEN%PVAR%0)) (a (v (fun ?0 (bool)) P) (v ?0 z))) (v ?0 z))))))))\"\n",
      "tag: GOAL\n",
      "fingerprint: 2952612442050326466\n",
      "\n",
      "\n",
      "\n",
      "[tactic: \"REWRITE_TAC\"\n",
      "parameters {\n",
      "  parameter_type: THEOREM_LIST\n",
      "  theorems {\n",
      "    conclusion: \"(a (c (fun (fun (fun A (bool)) (bool)) (bool)) !) (l (v (fun A (bool)) s) (a (c (fun (fun (fun A (bool)) (bool)) (bool)) !) (l (v (fun A (bool)) t) (a (a (c (fun (bool) (fun (bool) (bool))) =) (a (a (c (fun (fun A (bool)) (fun (fun A (bool)) (bool))) =) (v (fun A (bool)) s)) (v (fun A (bool)) t))) (a (c (fun (fun A (bool)) (bool)) !) (l (v A x) (a (a (c (fun (bool) (fun (bool) (bool))) =) (a (a (c (fun A (fun (fun A (bool)) (bool))) IN) (v A x)) (v (fun A (bool)) s))) (a (a (c (fun A (fun (fun A (bool)) (bool))) IN) (v A x)) (v (fun A (bool)) t))))))))))\"\n",
      "    tag: GOAL\n",
      "    fingerprint: 2527016271037755868\n",
      "  }\n",
      "  theorems {\n",
      "    conclusion: \"(a (c (fun (fun (fun A (bool)) (bool)) (bool)) !) (l (v (fun A (bool)) s) (a (c (fun (fun (fun A (bool)) (bool)) (bool)) !) (l (v (fun A (bool)) t) (a (a (c (fun (bool) (fun (bool) (bool))) =) (a (a (c (fun (fun A (bool)) (fun (fun A (bool)) (bool))) SUBSET) (v (fun A (bool)) s)) (v (fun A (bool)) t))) (a (c (fun (fun A (bool)) (bool)) !) (l (v A x) (a (a (c (fun (bool) (fun (bool) (bool))) ==>) (a (a (c (fun A (fun (fun A (bool)) (bool))) IN) (v A x)) (v (fun A (bool)) s))) (a (a (c (fun A (fun (fun A (bool)) (bool))) IN) (v A x)) (v (fun A (bool)) t))))))))))\"\n",
      "    tag: GOAL\n",
      "    fingerprint: 3600758243849386141\n",
      "  }\n",
      "  theorems {\n",
      "    conclusion: \"(a (c (fun (fun (fun A (bool)) (bool)) (bool)) !) (l (v (fun A (bool)) s) (a (c (fun (fun (fun A (bool)) (bool)) (bool)) !) (l (v (fun A (bool)) t) (a (a (c (fun (bool) (fun (bool) (bool))) =) (a (a (c (fun (fun A (bool)) (fun (fun A (bool)) (bool))) PSUBSET) (v (fun A (bool)) s)) (v (fun A (bool)) t))) (a (a (c (fun (bool) (fun (bool) (bool))) /\\\\) (a (a (c (fun (fun A (bool)) (fun (fun A (bool)) (bool))) SUBSET) (v (fun A (bool)) s)) (v (fun A (bool)) t))) (a (c (fun (bool) (bool)) ~) (a (a (c (fun (fun A (bool)) (fun (fun A (bool)) (bool))) =) (v (fun A (bool)) s)) (v (fun A (bool)) t)))))))))\"\n",
      "    tag: GOAL\n",
      "    fingerprint: 4337520006400750416\n",
      "  }\n",
      "  theorems {\n",
      "    conclusion: \"(a (c (fun (fun (fun A (bool)) (bool)) (bool)) !) (l (v (fun A (bool)) s) (a (c (fun (fun (fun A (bool)) (bool)) (bool)) !) (l (v (fun A (bool)) t) (a (a (c (fun (bool) (fun (bool) (bool))) =) (a (a (c (fun (fun A (bool)) (fun (fun A (bool)) (bool))) DISJOINT) (v (fun A (bool)) s)) (v (fun A (bool)) t))) (a (a (c (fun (fun A (bool)) (fun (fun A (bool)) (bool))) =) (a (a (c (fun (fun A (bool)) (fun (fun A (bool)) (fun A (bool)))) INTER) (v (fun A (bool)) s)) (v (fun A (bool)) t))) (c (fun A (bool)) EMPTY)))))))\"\n",
      "    tag: GOAL\n",
      "    fingerprint: 3358594852539947889\n",
      "  }\n",
      "  theorems {\n",
      "    conclusion: \"(a (c (fun (fun (fun A (bool)) (bool)) (bool)) !) (l (v (fun A (bool)) s) (a (a (c (fun (bool) (fun (bool) (bool))) =) (a (c (fun (fun A (bool)) (bool)) SING) (v (fun A (bool)) s))) (a (c (fun (fun A (bool)) (bool)) ?) (l (v A x) (a (a (c (fun (fun A (bool)) (fun (fun A (bool)) (bool))) =) (v (fun A (bool)) s)) (a (a (c (fun A (fun (fun A (bool)) (fun A (bool)))) INSERT) (v A x)) (c (fun A (bool)) EMPTY))))))))\"\n",
      "    tag: GOAL\n",
      "    fingerprint: 1264297036176334157\n",
      "  }\n",
      "}\n",
      "subgoals {\n",
      "  conclusion: \"(a (c (fun (fun ?0 (bool)) (bool)) !) (l (v ?0 x) (a (a (c (fun (bool) (fun (bool) (bool))) =) (a (a (c (fun ?0 (fun (fun ?0 (bool)) (bool))) IN) (v ?0 x)) (a (c (fun (fun ?0 (bool)) (fun ?0 (bool))) GSPEC) (l (v ?0 GEN%PVAR%0) (a (c (fun (fun ?0 (bool)) (bool)) ?) (l (v ?0 z) (a (a (a (c (fun ?0 (fun (bool) (fun ?0 (bool)))) SETSPEC) (v ?0 GEN%PVAR%0)) (a (a (c (fun (bool) (fun (bool) (bool))) /\\\\) (a (a (c (fun ?0 (fun (fun ?0 (bool)) (bool))) IN) (v ?0 z)) (v (fun ?0 (bool)) s))) (a (v (fun ?0 (bool)) P) (v ?0 z)))) (v ?0 z)))))))) (a (a (c (fun ?0 (fun (fun ?0 (bool)) (bool))) IN) (v ?0 x)) (a (a (c (fun (fun ?0 (bool)) (fun (fun ?0 (bool)) (fun ?0 (bool)))) INTER) (v (fun ?0 (bool)) s)) (a (c (fun (fun ?0 (bool)) (fun ?0 (bool))) GSPEC) (l (v ?0 GEN%PVAR%0) (a (c (fun (fun ?0 (bool)) (bool)) ?) (l (v ?0 z) (a (a (a (c (fun ?0 (fun (bool) (fun ?0 (bool)))) SETSPEC) (v ?0 GEN%PVAR%0)) (a (v (fun ?0 (bool)) P) (v ?0 z))) (v ?0 z)))))))))))\"\n",
      "  tag: GOAL\n",
      "  fingerprint: 3295225880719242845\n",
      "}\n",
      "result: SUCCESS\n",
      "closed: true\n",
      "]\n",
      "\n",
      "\n",
      "\n",
      "\n",
      "\n",
      "\n",
      "conclusion: \"(a (c (fun (fun ?0 (bool)) (bool)) !) (l (v ?0 x) (a (a (c (fun (bool) (fun (bool) (bool))) =) (a (a (c (fun ?0 (fun (fun ?0 (bool)) (bool))) IN) (v ?0 x)) (a (c (fun (fun ?0 (bool)) (fun ?0 (bool))) GSPEC) (l (v ?0 GEN%PVAR%0) (a (c (fun (fun ?0 (bool)) (bool)) ?) (l (v ?0 z) (a (a (a (c (fun ?0 (fun (bool) (fun ?0 (bool)))) SETSPEC) (v ?0 GEN%PVAR%0)) (a (a (c (fun (bool) (fun (bool) (bool))) /\\\\) (a (a (c (fun ?0 (fun (fun ?0 (bool)) (bool))) IN) (v ?0 z)) (v (fun ?0 (bool)) s))) (a (v (fun ?0 (bool)) P) (v ?0 z)))) (v ?0 z)))))))) (a (a (c (fun ?0 (fun (fun ?0 (bool)) (bool))) IN) (v ?0 x)) (a (a (c (fun (fun ?0 (bool)) (fun (fun ?0 (bool)) (fun ?0 (bool)))) INTER) (v (fun ?0 (bool)) s)) (a (c (fun (fun ?0 (bool)) (fun ?0 (bool))) GSPEC) (l (v ?0 GEN%PVAR%0) (a (c (fun (fun ?0 (bool)) (bool)) ?) (l (v ?0 z) (a (a (a (c (fun ?0 (fun (bool) (fun ?0 (bool)))) SETSPEC) (v ?0 GEN%PVAR%0)) (a (v (fun ?0 (bool)) P) (v ?0 z))) (v ?0 z)))))))))))\"\n",
      "tag: GOAL\n",
      "fingerprint: 3295225880719242845\n",
      "\n",
      "\n",
      "\n",
      "[tactic: \"REWRITE_TAC\"\n",
      "parameters {\n",
      "  parameter_type: THEOREM_LIST\n",
      "  theorems {\n",
      "    conclusion: \"(a (c (fun (fun A (bool)) (bool)) !) (l (v A x) (a (c (fun (bool) (bool)) ~) (a (a (c (fun A (fun (fun A (bool)) (bool))) IN) (v A x)) (c (fun A (bool)) EMPTY)))))\"\n",
      "    tag: GOAL\n",
      "    fingerprint: 4495262615029895189\n",
      "  }\n",
      "  theorems {\n",
      "    conclusion: \"(a (c (fun (fun A (bool)) (bool)) !) (l (v A x) (a (a (c (fun A (fun (fun A (bool)) (bool))) IN) (v A x)) (c (fun A (bool)) UNIV))))\"\n",
      "    tag: GOAL\n",
      "    fingerprint: 3311463869563081269\n",
      "  }\n",
      "  theorems {\n",
      "    conclusion: \"(a (c (fun (fun (fun A (bool)) (bool)) (bool)) !) (l (v (fun A (bool)) s) (a (c (fun (fun (fun A (bool)) (bool)) (bool)) !) (l (v (fun A (bool)) t) (a (c (fun (fun A (bool)) (bool)) !) (l (v A x) (a (a (c (fun (bool) (fun (bool) (bool))) =) (a (a (c (fun A (fun (fun A (bool)) (bool))) IN) (v A x)) (a (a (c (fun (fun A (bool)) (fun (fun A (bool)) (fun A (bool)))) UNION) (v (fun A (bool)) s)) (v (fun A (bool)) t)))) (a (a (c (fun (bool) (fun (bool) (bool))) \\\\/) (a (a (c (fun A (fun (fun A (bool)) (bool))) IN) (v A x)) (v (fun A (bool)) s))) (a (a (c (fun A (fun (fun A (bool)) (bool))) IN) (v A x)) (v (fun A (bool)) t))))))))))\"\n",
      "    tag: GOAL\n",
      "    fingerprint: 975856962495483397\n",
      "  }\n",
      "  theorems {\n",
      "    conclusion: \"(a (c (fun (fun (fun A (bool)) (bool)) (bool)) !) (l (v (fun A (bool)) s) (a (c (fun (fun (fun A (bool)) (bool)) (bool)) !) (l (v (fun A (bool)) t) (a (c (fun (fun A (bool)) (bool)) !) (l (v A x) (a (a (c (fun (bool) (fun (bool) (bool))) =) (a (a (c (fun A (fun (fun A (bool)) (bool))) IN) (v A x)) (a (a (c (fun (fun A (bool)) (fun (fun A (bool)) (fun A (bool)))) INTER) (v (fun A (bool)) s)) (v (fun A (bool)) t)))) (a (a (c (fun (bool) (fun (bool) (bool))) /\\\\) (a (a (c (fun A (fun (fun A (bool)) (bool))) IN) (v A x)) (v (fun A (bool)) s))) (a (a (c (fun A (fun (fun A (bool)) (bool))) IN) (v A x)) (v (fun A (bool)) t))))))))))\"\n",
      "    tag: GOAL\n",
      "    fingerprint: 2964929644107279817\n",
      "  }\n",
      "  theorems {\n",
      "    conclusion: \"(a (c (fun (fun (fun A (bool)) (bool)) (bool)) !) (l (v (fun A (bool)) s) (a (c (fun (fun (fun A (bool)) (bool)) (bool)) !) (l (v (fun A (bool)) t) (a (c (fun (fun A (bool)) (bool)) !) (l (v A x) (a (a (c (fun (bool) (fun (bool) (bool))) =) (a (a (c (fun A (fun (fun A (bool)) (bool))) IN) (v A x)) (a (a (c (fun (fun A (bool)) (fun (fun A (bool)) (fun A (bool)))) DIFF) (v (fun A (bool)) s)) (v (fun A (bool)) t)))) (a (a (c (fun (bool) (fun (bool) (bool))) /\\\\) (a (a (c (fun A (fun (fun A (bool)) (bool))) IN) (v A x)) (v (fun A (bool)) s))) (a (c (fun (bool) (bool)) ~) (a (a (c (fun A (fun (fun A (bool)) (bool))) IN) (v A x)) (v (fun A (bool)) t)))))))))))\"\n",
      "    tag: GOAL\n",
      "    fingerprint: 1421231771456566753\n",
      "  }\n",
      "  theorems {\n",
      "    conclusion: \"(a (c (fun (fun A (bool)) (bool)) !) (l (v A x) (a (c (fun (fun A (bool)) (bool)) !) (l (v A y) (a (c (fun (fun (fun A (bool)) (bool)) (bool)) !) (l (v (fun A (bool)) s) (a (a (c (fun (bool) (fun (bool) (bool))) =) (a (a (c (fun A (fun (fun A (bool)) (bool))) IN) (v A x)) (a (a (c (fun A (fun (fun A (bool)) (fun A (bool)))) INSERT) (v A y)) (v (fun A (bool)) s)))) (a (a (c (fun (bool) (fun (bool) (bool))) \\\\/) (a (a (c (fun A (fun A (bool))) =) (v A x)) (v A y))) (a (a (c (fun A (fun (fun A (bool)) (bool))) IN) (v A x)) (v (fun A (bool)) s))))))))))\"\n",
      "    tag: GOAL\n",
      "    fingerprint: 463448412851097228\n",
      "  }\n",
      "  theorems {\n",
      "    conclusion: \"(a (c (fun (fun (fun A (bool)) (bool)) (bool)) !) (l (v (fun A (bool)) s) (a (c (fun (fun A (bool)) (bool)) !) (l (v A x) (a (c (fun (fun A (bool)) (bool)) !) (l (v A y) (a (a (c (fun (bool) (fun (bool) (bool))) =) (a (a (c (fun A (fun (fun A (bool)) (bool))) IN) (v A x)) (a (a (c (fun (fun A (bool)) (fun A (fun A (bool)))) DELETE) (v (fun A (bool)) s)) (v A y)))) (a (a (c (fun (bool) (fun (bool) (bool))) /\\\\) (a (a (c (fun A (fun (fun A (bool)) (bool))) IN) (v A x)) (v (fun A (bool)) s))) (a (c (fun (bool) (bool)) ~) (a (a (c (fun A (fun A (bool))) =) (v A x)) (v A y)))))))))))\"\n",
      "    tag: GOAL\n",
      "    fingerprint: 1617287271715630323\n",
      "  }\n",
      "  theorems {\n",
      "    conclusion: \"(a (c (fun (fun A (bool)) (bool)) !) (l (v A x) (a (c (fun (fun (fun A (bool)) (bool)) (bool)) !) (l (v (fun A (bool)) s) (a (a (c (fun (bool) (fun (bool) (bool))) =) (a (a (c (fun A (fun (fun A (bool)) (bool))) IN) (v A x)) (a (c (fun (fun A (bool)) (fun A (bool))) REST) (v (fun A (bool)) s)))) (a (a (c (fun (bool) (fun (bool) (bool))) /\\\\) (a (a (c (fun A (fun (fun A (bool)) (bool))) IN) (v A x)) (v (fun A (bool)) s))) (a (c (fun (bool) (bool)) ~) (a (a (c (fun A (fun A (bool))) =) (v A x)) (a (c (fun (fun A (bool)) A) CHOICE) (v (fun A (bool)) s))))))))))\"\n",
      "    tag: GOAL\n",
      "    fingerprint: 2241912932283221809\n",
      "  }\n",
      "  theorems {\n",
      "    conclusion: \"(a (c (fun (fun (fun (fun A (bool)) (bool)) (bool)) (bool)) !) (l (v (fun (fun A (bool)) (bool)) s) (a (c (fun (fun A (bool)) (bool)) !) (l (v A x) (a (a (c (fun (bool) (fun (bool) (bool))) =) (a (a (c (fun A (fun (fun A (bool)) (bool))) IN) (v A x)) (a (c (fun (fun (fun A (bool)) (bool)) (fun A (bool))) INTERS) (v (fun (fun A (bool)) (bool)) s)))) (a (c (fun (fun (fun A (bool)) (bool)) (bool)) !) (l (v (fun A (bool)) t) (a (a (c (fun (bool) (fun (bool) (bool))) ==>) (a (a (c (fun (fun A (bool)) (fun (fun (fun A (bool)) (bool)) (bool))) IN) (v (fun A (bool)) t)) (v (fun (fun A (bool)) (bool)) s))) (a (a (c (fun A (fun (fun A (bool)) (bool))) IN) (v A x)) (v (fun A (bool)) t))))))))))\"\n",
      "    tag: GOAL\n",
      "    fingerprint: 4566121819689764126\n",
      "  }\n",
      "  theorems {\n",
      "    conclusion: \"(a (c (fun (fun (fun (fun A (bool)) (bool)) (bool)) (bool)) !) (l (v (fun (fun A (bool)) (bool)) s) (a (c (fun (fun A (bool)) (bool)) !) (l (v A x) (a (a (c (fun (bool) (fun (bool) (bool))) =) (a (a (c (fun A (fun (fun A (bool)) (bool))) IN) (v A x)) (a (c (fun (fun (fun A (bool)) (bool)) (fun A (bool))) UNIONS) (v (fun (fun A (bool)) (bool)) s)))) (a (c (fun (fun (fun A (bool)) (bool)) (bool)) ?) (l (v (fun A (bool)) t) (a (a (c (fun (bool) (fun (bool) (bool))) /\\\\) (a (a (c (fun (fun A (bool)) (fun (fun (fun A (bool)) (bool)) (bool))) IN) (v (fun A (bool)) t)) (v (fun (fun A (bool)) (bool)) s))) (a (a (c (fun A (fun (fun A (bool)) (bool))) IN) (v A x)) (v (fun A (bool)) t))))))))))\"\n",
      "    tag: GOAL\n",
      "    fingerprint: 17050148103884248\n",
      "  }\n",
      "  theorems {\n",
      "    conclusion: \"(a (c (fun (fun B (bool)) (bool)) !) (l (v B y) (a (c (fun (fun (fun A (bool)) (bool)) (bool)) !) (l (v (fun A (bool)) s) (a (c (fun (fun (fun A B) (bool)) (bool)) !) (l (v (fun A B) f) (a (a (c (fun (bool) (fun (bool) (bool))) =) (a (a (c (fun B (fun (fun B (bool)) (bool))) IN) (v B y)) (a (a (c (fun (fun A B) (fun (fun A (bool)) (fun B (bool)))) IMAGE) (v (fun A B) f)) (v (fun A (bool)) s)))) (a (c (fun (fun A (bool)) (bool)) ?) (l (v A x) (a (a (c (fun (bool) (fun (bool) (bool))) /\\\\) (a (a (c (fun B (fun B (bool))) =) (v B y)) (a (v (fun A B) f) (v A x)))) (a (a (c (fun A (fun (fun A (bool)) (bool))) IN) (v A x)) (v (fun A (bool)) s))))))))))))\"\n",
      "    tag: GOAL\n",
      "    fingerprint: 2503682330082558798\n",
      "  }\n",
      "  theorems {\n",
      "    conclusion: \"(a (a (c (fun (bool) (fun (bool) (bool))) /\\\\) (a (c (fun (fun (fun (fun (bool) (fun ?0 (bool))) (bool)) (bool)) (bool)) !) (l (v (fun (fun (bool) (fun ?0 (bool))) (bool)) P) (a (c (fun (fun ?0 (bool)) (bool)) !) (l (v ?0 x) (a (a (c (fun (bool) (fun (bool) (bool))) =) (a (a (c (fun ?0 (fun (fun ?0 (bool)) (bool))) IN) (v ?0 x)) (a (c (fun (fun ?0 (bool)) (fun ?0 (bool))) GSPEC) (l (v ?0 v) (a (v (fun (fun (bool) (fun ?0 (bool))) (bool)) P) (a (c (fun ?0 (fun (bool) (fun ?0 (bool)))) SETSPEC) (v ?0 v))))))) (a (v (fun (fun (bool) (fun ?0 (bool))) (bool)) P) (l (v (bool) p) (l (v ?0 t) (a (a (c (fun (bool) (fun (bool) (bool))) /\\\\) (v (bool) p)) (a (a (c (fun ?0 (fun ?0 (bool))) =) (v ?0 x)) (v ?0 t)))))))))))) (a (a (c (fun (bool) (fun (bool) (bool))) /\\\\) (a (c (fun (fun (fun ?1 (bool)) (bool)) (bool)) !) (l (v (fun ?1 (bool)) p) (a (c (fun (fun ?1 (bool)) (bool)) !) (l (v ?1 x) (a (a (c (fun (bool) (fun (bool) (bool))) =) (a (a (c (fun ?1 (fun (fun ?1 (bool)) (bool))) IN) (v ?1 x)) (a (c (fun (fun ?1 (bool)) (fun ?1 (bool))) GSPEC) (l (v ?1 v) (a (c (fun (fun ?1 (bool)) (bool)) ?) (l (v ?1 y) (a (a (a (c (fun ?1 (fun (bool) (fun ?1 (bool)))) SETSPEC) (v ?1 v)) (a (v (fun ?1 (bool)) p) (v ?1 y))) (v ?1 y)))))))) (a (v (fun ?1 (bool)) p) (v ?1 x)))))))) (a (a (c (fun (bool) (fun (bool) (bool))) /\\\\) (a (c (fun (fun (fun (fun (bool) (fun ?2 (bool))) (bool)) (bool)) (bool)) !) (l (v (fun (fun (bool) (fun ?2 (bool))) (bool)) P) (a (c (fun (fun ?2 (bool)) (bool)) !) (l (v ?2 x) (a (a (c (fun (bool) (fun (bool) (bool))) =) (a (a (c (fun (fun ?2 (bool)) (fun ?2 (bool))) GSPEC) (l (v ?2 v) (a (v (fun (fun (bool) (fun ?2 (bool))) (bool)) P) (a (c (fun ?2 (fun (bool) (fun ?2 (bool)))) SETSPEC) (v ?2 v))))) (v ?2 x))) (a (v (fun (fun (bool) (fun ?2 (bool))) (bool)) P) (l (v (bool) p) (l (v ?2 t) (a (a (c (fun (bool) (fun (bool) (bool))) /\\\\) (v (bool) p)) (a (a (c (fun ?2 (fun ?2 (bool))) =) (v ?2 x)) (v ?2 t)))))))))))) (a (a (c (fun (bool) (fun (bool) (bool))) /\\\\) (a (c (fun (fun (fun ?3 (bool)) (bool)) (bool)) !) (l (v (fun ?3 (bool)) p) (a (c (fun (fun ?3 (bool)) (bool)) !) (l (v ?3 x) (a (a (c (fun (bool) (fun (bool) (bool))) =) (a (a (c (fun (fun ?3 (bool)) (fun ?3 (bool))) GSPEC) (l (v ?3 v) (a (c (fun (fun ?3 (bool)) (bool)) ?) (l (v ?3 y) (a (a (a (c (fun ?3 (fun (bool) (fun ?3 (bool)))) SETSPEC) (v ?3 v)) (a (v (fun ?3 (bool)) p) (v ?3 y))) (v ?3 y)))))) (v ?3 x))) (a (v (fun ?3 (bool)) p) (v ?3 x)))))))) (a (c (fun (fun (fun ?4 (bool)) (bool)) (bool)) !) (l (v (fun ?4 (bool)) p) (a (c (fun (fun ?4 (bool)) (bool)) !) (l (v ?4 x) (a (a (c (fun (bool) (fun (bool) (bool))) =) (a (a (c (fun ?4 (fun (fun ?4 (bool)) (bool))) IN) (v ?4 x)) (l (v ?4 y) (a (v (fun ?4 (bool)) p) (v ?4 y))))) (a (v (fun ?4 (bool)) p) (v ?4 x)))))))))))\"\n",
      "    tag: GOAL\n",
      "    fingerprint: 4183565916898407167\n",
      "  }\n",
      "  theorems {\n",
      "    conclusion: \"(a (c (fun (fun (fun A (bool)) (bool)) (bool)) !) (l (v (fun A (bool)) P) (a (c (fun (fun A (bool)) (bool)) !) (l (v A x) (a (a (c (fun (bool) (fun (bool) (bool))) =) (a (a (c (fun A (fun (fun A (bool)) (bool))) IN) (v A x)) (v (fun A (bool)) P))) (a (v (fun A (bool)) P) (v A x)))))))\"\n",
      "    tag: GOAL\n",
      "    fingerprint: 1433978518111830493\n",
      "  }\n",
      "}\n",
      "result: SUCCESS\n",
      "closed: true\n",
      "]\n"
     ]
    }
   ],
   "source": [
    "for node in x[0].nodes:\n",
    "    print (5 * \"\\n\")\n",
    "    print (node.goal)\n",
    "    print (\"\\n\")\n",
    "    print (node.proofs)"
   ]
  },
  {
   "cell_type": "code",
   "execution_count": 188,
   "metadata": {},
   "outputs": [
    {
     "data": {
      "text/plain": [
       "deephol_pb2.TacticApplication"
      ]
     },
     "execution_count": 188,
     "metadata": {},
     "output_type": "execute_result"
    }
   ],
   "source": [
    "tac = x[0].nodes[1].proofs[0]\n",
    "type(tac)"
   ]
  },
  {
   "cell_type": "code",
   "execution_count": null,
   "metadata": {},
   "outputs": [],
   "source": [
    "# idea : get negative (goal, tac) pairs from data when tac -> goal doesn't change anything, just run over large set of goals with all valid tactics and label all \"Failures\" with 0 \n",
    "\n",
    "# idea : generate proof step by step using logs, and see if there's any unused goals for negative ([goal] -> selected_goal) samples\n",
    "# need to convert from tac object to string, possible ignore some tacs e.g label tac \n",
    "\n",
    "# idea : for premise network, agent first decides on num_args, then that number is sampled from arg network\n",
    "\n",
    "# idea : add premise pruning (given list of premises, try tactic application with subsets until same result isn't returned), do this through human dataset and RL data\n",
    "\n",
    "# todo: figure out CONV and LABEL (replace with ASSUM_TAC?) ,RAW_POP_TAC"
   ]
  },
  {
   "cell_type": "code",
   "execution_count": 196,
   "metadata": {},
   "outputs": [
    {
     "name": "stdout",
     "output_type": "stream",
     "text": [
      "Remove the forall x\n",
      "\n",
      "Request:\n",
      "goal {\n",
      "  conclusion: \"(a (a (c (fun (fun ?0 (bool)) (fun (fun ?0 (bool)) (bool))) =) (a (c (fun (fun ?0 (bool)) (fun ?0 (bool))) GSPEC) (l (v ?0 GEN%PVAR%0) (a (c (fun (fun ?0 (bool)) (bool)) ?) (l (v ?0 z) (a (a (a (c (fun ?0 (fun (bool) (fun ?0 (bool)))) SETSPEC) (v ?0 GEN%PVAR%0)) (a (a (c (fun (bool) (fun (bool) (bool))) /\\\\) (a (a (c (fun ?0 (fun (fun ?0 (bool)) (bool))) IN) (v ?0 z)) (v (fun ?0 (bool)) s))) (a (v (fun ?0 (bool)) P) (v ?0 z)))) (v ?0 z))))))) (a (a (c (fun (fun ?0 (bool)) (fun (fun ?0 (bool)) (fun ?0 (bool)))) INTER) (v (fun ?0 (bool)) s)) (a (c (fun (fun ?0 (bool)) (fun ?0 (bool))) GSPEC) (l (v ?0 GEN%PVAR%0) (a (c (fun (fun ?0 (bool)) (bool)) ?) (l (v ?0 z) (a (a (a (c (fun ?0 (fun (bool) (fun ?0 (bool)))) SETSPEC) (v ?0 GEN%PVAR%0)) (a (v (fun ?0 (bool)) P) (v ?0 z))) (v ?0 z))))))))\"\n",
      "  tag: THEOREM\n",
      "  fingerprint: 2952612442050326466\n",
      "}\n",
      "tactic: \"EQ_TAC\"\n",
      "\n",
      "Response:\n",
      "error: \"Failure(\\\"EQ_TAC\\\")\"\n",
      "\n"
     ]
    },
    {
     "ename": "IndexError",
     "evalue": "list index (0) out of range",
     "output_type": "error",
     "traceback": [
      "\u001B[0;31m---------------------------------------------------------------------------\u001B[0m",
      "\u001B[0;31mIndexError\u001B[0m                                Traceback (most recent call last)",
      "Cell \u001B[0;32mIn[196], line 19\u001B[0m\n\u001B[1;32m     13\u001B[0m     \u001B[38;5;28mprint\u001B[39m(response1)\n\u001B[1;32m     15\u001B[0m     \u001B[38;5;66;03m#check if duplicate conclusion \u001B[39;00m\n\u001B[1;32m     16\u001B[0m \u001B[38;5;66;03m#     print (response1.goals.goals[0].conclusion == test_goal.conclusion)\u001B[39;00m\n\u001B[0;32m---> 19\u001B[0m     request2 \u001B[38;5;241m=\u001B[39m proof_assistant_pb2\u001B[38;5;241m.\u001B[39mApplyTacticRequest(goal\u001B[38;5;241m=\u001B[39m\u001B[43mresponse1\u001B[49m\u001B[38;5;241;43m.\u001B[39;49m\u001B[43mgoals\u001B[49m\u001B[38;5;241;43m.\u001B[39;49m\u001B[43mgoals\u001B[49m\u001B[43m[\u001B[49m\u001B[38;5;241;43m0\u001B[39;49m\u001B[43m]\u001B[49m, tactic\u001B[38;5;241m=\u001B[39m\u001B[38;5;124m\"\u001B[39m\u001B[38;5;124mRAW_POP_ALL_TAC\u001B[39m\u001B[38;5;124m\"\u001B[39m)\n\u001B[1;32m     21\u001B[0m     \u001B[38;5;28mprint\u001B[39m()\n\u001B[1;32m     23\u001B[0m \u001B[38;5;66;03m#     request2 = proof_assistant_pb2.ApplyTacticRequest(goal=response1.goals.goals[0], tactic=\"EXISTS_TAC `(v A x)`\")\u001B[39;00m\n\u001B[1;32m     24\u001B[0m \u001B[38;5;66;03m#     print(\"Request:\")\u001B[39;00m\n\u001B[1;32m     25\u001B[0m \u001B[38;5;66;03m#     print(request2)\u001B[39;00m\n",
      "\u001B[0;31mIndexError\u001B[0m: list index (0) out of range"
     ]
    }
   ],
   "source": [
    "with grpc.insecure_channel(PORT) as channel:\n",
    "    stub = proof_assistant_pb2_grpc.ProofAssistantServiceStub(channel)\n",
    "\n",
    "    print(\"Remove the forall x\")\n",
    "    print()\n",
    "    \n",
    "    request1 = proof_assistant_pb2.ApplyTacticRequest(goal=test_goal, tactic=\"EQ_TAC\")\n",
    "    print(\"Request:\")\n",
    "    print(request1)\n",
    "\n",
    "    response1 = stub.ApplyTactic(request1)\n",
    "    print(\"Response:\")\n",
    "    print(response1)\n",
    "    \n",
    "    #check if duplicate conclusion \n",
    "#     print (response1.goals.goals[0].conclusion == test_goal.conclusion)\n",
    "    \n",
    "    \n",
    "    request2 = proof_assistant_pb2.ApplyTacticRequest(goal=response1.goals.goals[0], tactic=\"RAW_POP_ALL_TAC\")\n",
    "\n",
    "    print()\n",
    "    \n",
    "#     request2 = proof_assistant_pb2.ApplyTacticRequest(goal=response1.goals.goals[0], tactic=\"EXISTS_TAC `(v A x)`\")\n",
    "#     print(\"Request:\")\n",
    "#     print(request2)\n",
    "\n",
    "    response2 = stub.ApplyTactic(request2)\n",
    "    print(\"Response:\")\n",
    "    print(response2)\n",
    "    \n",
    "#     print(\"Simplify to solve\")\n",
    "#     print()\n",
    "    \n",
    "#     request3 = proof_assistant_pb2.ApplyTacticRequest(goal=response2.goals.goals[0], tactic=\"SIMP_TAC [ ]\")\n",
    "#     print(\"Request:\")\n",
    "#     print(request3)\n",
    "\n",
    "#     response3 = stub.ApplyTactic(request3)\n",
    "#     print(\"Response:\")\n",
    "#     print(response3)"
   ]
  },
  {
   "cell_type": "markdown",
   "metadata": {},
   "source": []
  },
  {
   "cell_type": "code",
   "execution_count": 75,
   "metadata": {},
   "outputs": [
    {
     "ename": "ModuleNotFoundError",
     "evalue": "No module named 'torch_geometric'",
     "output_type": "error",
     "traceback": [
      "\u001B[0;31m---------------------------------------------------------------------------\u001B[0m",
      "\u001B[0;31mModuleNotFoundError\u001B[0m                       Traceback (most recent call last)",
      "Cell \u001B[0;32mIn[75], line 1\u001B[0m\n\u001B[0;32m----> 1\u001B[0m \u001B[38;5;28;01mimport\u001B[39;00m \u001B[38;5;21;01mast_def\u001B[39;00m\n\u001B[1;32m      3\u001B[0m \u001B[38;5;66;03m# !pip3 install numpy \u001B[39;00m\n",
      "File \u001B[0;32m~/Documents/phd/holist/random/ast_def.py:3\u001B[0m\n\u001B[1;32m      1\u001B[0m \u001B[38;5;28;01mimport\u001B[39;00m \u001B[38;5;21;01mpickle\u001B[39;00m\n\u001B[1;32m      2\u001B[0m \u001B[38;5;28;01mimport\u001B[39;00m \u001B[38;5;21;01mnumpy\u001B[39;00m \u001B[38;5;28;01mas\u001B[39;00m \u001B[38;5;21;01mnp\u001B[39;00m\n\u001B[0;32m----> 3\u001B[0m \u001B[38;5;28;01mfrom\u001B[39;00m \u001B[38;5;21;01mtorch_geometric\u001B[39;00m\u001B[38;5;21;01m.\u001B[39;00m\u001B[38;5;21;01mdata\u001B[39;00m \u001B[38;5;28;01mimport\u001B[39;00m Data\n\u001B[1;32m      4\u001B[0m \u001B[38;5;28;01mimport\u001B[39;00m \u001B[38;5;21;01mtorch\u001B[39;00m\n\u001B[1;32m      5\u001B[0m \u001B[38;5;28;01mimport\u001B[39;00m \u001B[38;5;21;01mnetworkx\u001B[39;00m \u001B[38;5;28;01mas\u001B[39;00m \u001B[38;5;21;01mnx\u001B[39;00m\n",
      "\u001B[0;31mModuleNotFoundError\u001B[0m: No module named 'torch_geometric'"
     ]
    }
   ],
   "source": [
    "import ast_def\n",
    "\n",
    "# !pip3 install numpy "
   ]
  },
  {
   "cell_type": "code",
   "execution_count": 71,
   "metadata": {},
   "outputs": [
    {
     "data": {
      "text/plain": [
       "'(a (a (c (fun (bool) (fun (bool) (bool))) ==>) (a (a (c (fun (cart (real) (2)) (fun (fun (cart (real) (2)) (bool)) (bool))) IN) (v (cart (real) (2)) z)) (v (fun (cart (real) (2)) (bool)) s))) (a (c (fun (bool) (bool)) ~) (a (a (c (fun (cart (real) (2)) (fun (cart (real) (2)) (bool))) =) (a (a (c (fun (fun (cart (real) (2)) (cart (real) (2))) (fun (cart (real) (2)) (cart (real) (2)))) complex_derivative) (v (fun (cart (real) (2)) (cart (real) (2))) f)) (v (cart (real) (2)) z))) (a (c (fun (real) (cart (real) (2))) Cx) (a (c (fun (num) (real)) real_of_num) (a (c (fun (num) (num)) NUMERAL) (c (num) _0)))))))'"
      ]
     },
     "execution_count": 71,
     "metadata": {},
     "output_type": "execute_result"
    }
   ],
   "source": [
    "x[0].nodes[9].proofs[0].subgoals[0].conclusion"
   ]
  },
  {
   "cell_type": "code",
   "execution_count": 32,
   "metadata": {
    "scrolled": false
   },
   "outputs": [
    {
     "name": "stdout",
     "output_type": "stream",
     "text": [
      "1\n",
      "51\n",
      "101\n",
      "151\n",
      "201\n",
      "251\n"
     ]
    },
    {
     "ename": "KeyboardInterrupt",
     "evalue": "",
     "output_type": "error",
     "traceback": [
      "\u001B[0;31m---------------------------------------------------------------------------\u001B[0m",
      "\u001B[0;31mKeyboardInterrupt\u001B[0m                         Traceback (most recent call last)",
      "Cell \u001B[0;32mIn[32], line 14\u001B[0m\n\u001B[1;32m     12\u001B[0m count \u001B[38;5;241m=\u001B[39m \u001B[38;5;241m0\u001B[39m\n\u001B[1;32m     13\u001B[0m \u001B[38;5;28;01mfor\u001B[39;00m i, file \u001B[38;5;129;01min\u001B[39;00m \u001B[38;5;28menumerate\u001B[39m(files):\n\u001B[0;32m---> 14\u001B[0m     count \u001B[38;5;241m+\u001B[39m\u001B[38;5;241m=\u001B[39m \u001B[38;5;28mlen\u001B[39m(\u001B[38;5;28;43mlist\u001B[39;49m\u001B[43m(\u001B[49m\u001B[43mio_util\u001B[49m\u001B[38;5;241;43m.\u001B[39;49m\u001B[43mread_protos\u001B[49m\u001B[43m(\u001B[49m\u001B[43mfile\u001B[49m\u001B[43m,\u001B[49m\u001B[43mdeephol_pb2\u001B[49m\u001B[38;5;241;43m.\u001B[39;49m\u001B[43mProofLog\u001B[49m\u001B[43m)\u001B[49m\u001B[43m)\u001B[49m)\n\u001B[1;32m     15\u001B[0m     \u001B[38;5;28;01mif\u001B[39;00m i \u001B[38;5;241m%\u001B[39m \u001B[38;5;241m50\u001B[39m \u001B[38;5;241m==\u001B[39m \u001B[38;5;241m0\u001B[39m:\n\u001B[1;32m     16\u001B[0m         \u001B[38;5;28mprint\u001B[39m (count)\n",
      "File \u001B[0;32m~/Documents/phd/holist/random/io_util.py:190\u001B[0m, in \u001B[0;36mread_protos\u001B[0;34m(pattern, proto_class)\u001B[0m\n\u001B[1;32m    188\u001B[0m \u001B[38;5;28;01mfor\u001B[39;00m filename \u001B[38;5;129;01min\u001B[39;00m filenames:\n\u001B[1;32m    189\u001B[0m   \u001B[38;5;28;01mif\u001B[39;00m filename\u001B[38;5;241m.\u001B[39mendswith(\u001B[38;5;124m'\u001B[39m\u001B[38;5;124m.textpb\u001B[39m\u001B[38;5;124m'\u001B[39m) \u001B[38;5;129;01mor\u001B[39;00m filename\u001B[38;5;241m.\u001B[39mendswith(\u001B[38;5;124m'\u001B[39m\u001B[38;5;124m.pbtxt\u001B[39m\u001B[38;5;124m'\u001B[39m):\n\u001B[0;32m--> 190\u001B[0m     \u001B[38;5;28;01myield\u001B[39;00m \u001B[43mload_text_proto\u001B[49m\u001B[43m(\u001B[49m\u001B[43mfilename\u001B[49m\u001B[43m,\u001B[49m\u001B[43m \u001B[49m\u001B[43mproto_class\u001B[49m\u001B[43m)\u001B[49m\n\u001B[1;32m    191\u001B[0m   \u001B[38;5;28;01melif\u001B[39;00m filename\u001B[38;5;241m.\u001B[39mendswith(\u001B[38;5;124m'\u001B[39m\u001B[38;5;124m.textpbs\u001B[39m\u001B[38;5;124m'\u001B[39m) \u001B[38;5;129;01mor\u001B[39;00m filename\u001B[38;5;241m.\u001B[39mendswith(\u001B[38;5;124m'\u001B[39m\u001B[38;5;124m.pbtxts\u001B[39m\u001B[38;5;124m'\u001B[39m):\n\u001B[1;32m    192\u001B[0m     \u001B[38;5;28;01mfor\u001B[39;00m proto \u001B[38;5;129;01min\u001B[39;00m load_text_protos(filename, proto_class):\n",
      "File \u001B[0;32m~/Documents/phd/holist/random/io_util.py:82\u001B[0m, in \u001B[0;36mload_text_proto\u001B[0;34m(filename, proto_constructor, description)\u001B[0m\n\u001B[1;32m     80\u001B[0m   proto \u001B[38;5;241m=\u001B[39m proto_constructor()\n\u001B[1;32m     81\u001B[0m   \u001B[38;5;28;01mwith\u001B[39;00m \u001B[38;5;28mopen\u001B[39m(filename) \u001B[38;5;28;01mas\u001B[39;00m f:\n\u001B[0;32m---> 82\u001B[0m     \u001B[43mtext_format\u001B[49m\u001B[38;5;241;43m.\u001B[39;49m\u001B[43mMergeLines\u001B[49m\u001B[43m(\u001B[49m\u001B[43mf\u001B[49m\u001B[43m,\u001B[49m\u001B[43m \u001B[49m\u001B[43mproto\u001B[49m\u001B[43m)\u001B[49m\n\u001B[1;32m     83\u001B[0m \u001B[38;5;66;03m#  if description:\u001B[39;00m\n\u001B[1;32m     84\u001B[0m \u001B[38;5;66;03m#    tf.logging.info('Successfully read %s from \"%s\"', description, filename)\u001B[39;00m\n\u001B[1;32m     85\u001B[0m   \u001B[38;5;28;01mreturn\u001B[39;00m proto\n",
      "File \u001B[0;32m~/Documents/phd/holist/random/holist/lib/python3.10/site-packages/google/protobuf/text_format.py:793\u001B[0m, in \u001B[0;36mMergeLines\u001B[0;34m(lines, message, allow_unknown_extension, allow_field_number, descriptor_pool, allow_unknown_field)\u001B[0m\n\u001B[1;32m    768\u001B[0m \u001B[38;5;250m\u001B[39m\u001B[38;5;124;03m\"\"\"Parses a text representation of a protocol message into a message.\u001B[39;00m\n\u001B[1;32m    769\u001B[0m \n\u001B[1;32m    770\u001B[0m \u001B[38;5;124;03mSee Merge() for more details.\u001B[39;00m\n\u001B[0;32m   (...)\u001B[0m\n\u001B[1;32m    787\u001B[0m \u001B[38;5;124;03m  ParseError: On text parsing problems.\u001B[39;00m\n\u001B[1;32m    788\u001B[0m \u001B[38;5;124;03m\"\"\"\u001B[39;00m\n\u001B[1;32m    789\u001B[0m parser \u001B[38;5;241m=\u001B[39m _Parser(allow_unknown_extension,\n\u001B[1;32m    790\u001B[0m                  allow_field_number,\n\u001B[1;32m    791\u001B[0m                  descriptor_pool\u001B[38;5;241m=\u001B[39mdescriptor_pool,\n\u001B[1;32m    792\u001B[0m                  allow_unknown_field\u001B[38;5;241m=\u001B[39mallow_unknown_field)\n\u001B[0;32m--> 793\u001B[0m \u001B[38;5;28;01mreturn\u001B[39;00m \u001B[43mparser\u001B[49m\u001B[38;5;241;43m.\u001B[39;49m\u001B[43mMergeLines\u001B[49m\u001B[43m(\u001B[49m\u001B[43mlines\u001B[49m\u001B[43m,\u001B[49m\u001B[43m \u001B[49m\u001B[43mmessage\u001B[49m\u001B[43m)\u001B[49m\n",
      "File \u001B[0;32m~/Documents/phd/holist/random/holist/lib/python3.10/site-packages/google/protobuf/text_format.py:818\u001B[0m, in \u001B[0;36m_Parser.MergeLines\u001B[0;34m(self, lines, message)\u001B[0m\n\u001B[1;32m    816\u001B[0m \u001B[38;5;250m\u001B[39m\u001B[38;5;124;03m\"\"\"Merges a text representation of a protocol message into a message.\"\"\"\u001B[39;00m\n\u001B[1;32m    817\u001B[0m \u001B[38;5;28mself\u001B[39m\u001B[38;5;241m.\u001B[39m_allow_multiple_scalars \u001B[38;5;241m=\u001B[39m \u001B[38;5;28;01mTrue\u001B[39;00m\n\u001B[0;32m--> 818\u001B[0m \u001B[38;5;28;43mself\u001B[39;49m\u001B[38;5;241;43m.\u001B[39;49m\u001B[43m_ParseOrMerge\u001B[49m\u001B[43m(\u001B[49m\u001B[43mlines\u001B[49m\u001B[43m,\u001B[49m\u001B[43m \u001B[49m\u001B[43mmessage\u001B[49m\u001B[43m)\u001B[49m\n\u001B[1;32m    819\u001B[0m \u001B[38;5;28;01mreturn\u001B[39;00m message\n",
      "File \u001B[0;32m~/Documents/phd/holist/random/holist/lib/python3.10/site-packages/google/protobuf/text_format.py:837\u001B[0m, in \u001B[0;36m_Parser._ParseOrMerge\u001B[0;34m(self, lines, message)\u001B[0m\n\u001B[1;32m    835\u001B[0m tokenizer \u001B[38;5;241m=\u001B[39m Tokenizer(str_lines)\n\u001B[1;32m    836\u001B[0m \u001B[38;5;28;01mwhile\u001B[39;00m \u001B[38;5;129;01mnot\u001B[39;00m tokenizer\u001B[38;5;241m.\u001B[39mAtEnd():\n\u001B[0;32m--> 837\u001B[0m   \u001B[38;5;28;43mself\u001B[39;49m\u001B[38;5;241;43m.\u001B[39;49m\u001B[43m_MergeField\u001B[49m\u001B[43m(\u001B[49m\u001B[43mtokenizer\u001B[49m\u001B[43m,\u001B[49m\u001B[43m \u001B[49m\u001B[43mmessage\u001B[49m\u001B[43m)\u001B[49m\n",
      "File \u001B[0;32m~/Documents/phd/holist/random/holist/lib/python3.10/site-packages/google/protobuf/text_format.py:967\u001B[0m, in \u001B[0;36m_Parser._MergeField\u001B[0;34m(self, tokenizer, message)\u001B[0m\n\u001B[1;32m    964\u001B[0m         tokenizer\u001B[38;5;241m.\u001B[39mConsume(\u001B[38;5;124m'\u001B[39m\u001B[38;5;124m,\u001B[39m\u001B[38;5;124m'\u001B[39m)\n\u001B[1;32m    966\u001B[0m   \u001B[38;5;28;01melse\u001B[39;00m:\n\u001B[0;32m--> 967\u001B[0m     \u001B[43mmerger\u001B[49m\u001B[43m(\u001B[49m\u001B[43mtokenizer\u001B[49m\u001B[43m,\u001B[49m\u001B[43m \u001B[49m\u001B[43mmessage\u001B[49m\u001B[43m,\u001B[49m\u001B[43m \u001B[49m\u001B[43mfield\u001B[49m\u001B[43m)\u001B[49m\n\u001B[1;32m    969\u001B[0m \u001B[38;5;28;01melse\u001B[39;00m:  \u001B[38;5;66;03m# Proto field is unknown.\u001B[39;00m\n\u001B[1;32m    970\u001B[0m   \u001B[38;5;28;01massert\u001B[39;00m (\u001B[38;5;28mself\u001B[39m\u001B[38;5;241m.\u001B[39mallow_unknown_extension \u001B[38;5;129;01mor\u001B[39;00m \u001B[38;5;28mself\u001B[39m\u001B[38;5;241m.\u001B[39mallow_unknown_field)\n",
      "File \u001B[0;32m~/Documents/phd/holist/random/holist/lib/python3.10/site-packages/google/protobuf/text_format.py:1042\u001B[0m, in \u001B[0;36m_Parser._MergeMessageField\u001B[0;34m(self, tokenizer, message, field)\u001B[0m\n\u001B[1;32m   1040\u001B[0m   \u001B[38;5;28;01mif\u001B[39;00m tokenizer\u001B[38;5;241m.\u001B[39mAtEnd():\n\u001B[1;32m   1041\u001B[0m     \u001B[38;5;28;01mraise\u001B[39;00m tokenizer\u001B[38;5;241m.\u001B[39mParseErrorPreviousToken(\u001B[38;5;124m'\u001B[39m\u001B[38;5;124mExpected \u001B[39m\u001B[38;5;124m\"\u001B[39m\u001B[38;5;132;01m%s\u001B[39;00m\u001B[38;5;124m\"\u001B[39m\u001B[38;5;124m.\u001B[39m\u001B[38;5;124m'\u001B[39m \u001B[38;5;241m%\u001B[39m (end_token,))\n\u001B[0;32m-> 1042\u001B[0m   \u001B[38;5;28;43mself\u001B[39;49m\u001B[38;5;241;43m.\u001B[39;49m\u001B[43m_MergeField\u001B[49m\u001B[43m(\u001B[49m\u001B[43mtokenizer\u001B[49m\u001B[43m,\u001B[49m\u001B[43m \u001B[49m\u001B[43msub_message\u001B[49m\u001B[43m)\u001B[49m\n\u001B[1;32m   1044\u001B[0m \u001B[38;5;28;01mif\u001B[39;00m is_map_entry:\n\u001B[1;32m   1045\u001B[0m   value_cpptype \u001B[38;5;241m=\u001B[39m field\u001B[38;5;241m.\u001B[39mmessage_type\u001B[38;5;241m.\u001B[39mfields_by_name[\u001B[38;5;124m'\u001B[39m\u001B[38;5;124mvalue\u001B[39m\u001B[38;5;124m'\u001B[39m]\u001B[38;5;241m.\u001B[39mcpp_type\n",
      "File \u001B[0;32m~/Documents/phd/holist/random/holist/lib/python3.10/site-packages/google/protobuf/text_format.py:967\u001B[0m, in \u001B[0;36m_Parser._MergeField\u001B[0;34m(self, tokenizer, message)\u001B[0m\n\u001B[1;32m    964\u001B[0m         tokenizer\u001B[38;5;241m.\u001B[39mConsume(\u001B[38;5;124m'\u001B[39m\u001B[38;5;124m,\u001B[39m\u001B[38;5;124m'\u001B[39m)\n\u001B[1;32m    966\u001B[0m   \u001B[38;5;28;01melse\u001B[39;00m:\n\u001B[0;32m--> 967\u001B[0m     \u001B[43mmerger\u001B[49m\u001B[43m(\u001B[49m\u001B[43mtokenizer\u001B[49m\u001B[43m,\u001B[49m\u001B[43m \u001B[49m\u001B[43mmessage\u001B[49m\u001B[43m,\u001B[49m\u001B[43m \u001B[49m\u001B[43mfield\u001B[49m\u001B[43m)\u001B[49m\n\u001B[1;32m    969\u001B[0m \u001B[38;5;28;01melse\u001B[39;00m:  \u001B[38;5;66;03m# Proto field is unknown.\u001B[39;00m\n\u001B[1;32m    970\u001B[0m   \u001B[38;5;28;01massert\u001B[39;00m (\u001B[38;5;28mself\u001B[39m\u001B[38;5;241m.\u001B[39mallow_unknown_extension \u001B[38;5;129;01mor\u001B[39;00m \u001B[38;5;28mself\u001B[39m\u001B[38;5;241m.\u001B[39mallow_unknown_field)\n",
      "File \u001B[0;32m~/Documents/phd/holist/random/holist/lib/python3.10/site-packages/google/protobuf/text_format.py:1042\u001B[0m, in \u001B[0;36m_Parser._MergeMessageField\u001B[0;34m(self, tokenizer, message, field)\u001B[0m\n\u001B[1;32m   1040\u001B[0m   \u001B[38;5;28;01mif\u001B[39;00m tokenizer\u001B[38;5;241m.\u001B[39mAtEnd():\n\u001B[1;32m   1041\u001B[0m     \u001B[38;5;28;01mraise\u001B[39;00m tokenizer\u001B[38;5;241m.\u001B[39mParseErrorPreviousToken(\u001B[38;5;124m'\u001B[39m\u001B[38;5;124mExpected \u001B[39m\u001B[38;5;124m\"\u001B[39m\u001B[38;5;132;01m%s\u001B[39;00m\u001B[38;5;124m\"\u001B[39m\u001B[38;5;124m.\u001B[39m\u001B[38;5;124m'\u001B[39m \u001B[38;5;241m%\u001B[39m (end_token,))\n\u001B[0;32m-> 1042\u001B[0m   \u001B[38;5;28;43mself\u001B[39;49m\u001B[38;5;241;43m.\u001B[39;49m\u001B[43m_MergeField\u001B[49m\u001B[43m(\u001B[49m\u001B[43mtokenizer\u001B[49m\u001B[43m,\u001B[49m\u001B[43m \u001B[49m\u001B[43msub_message\u001B[49m\u001B[43m)\u001B[49m\n\u001B[1;32m   1044\u001B[0m \u001B[38;5;28;01mif\u001B[39;00m is_map_entry:\n\u001B[1;32m   1045\u001B[0m   value_cpptype \u001B[38;5;241m=\u001B[39m field\u001B[38;5;241m.\u001B[39mmessage_type\u001B[38;5;241m.\u001B[39mfields_by_name[\u001B[38;5;124m'\u001B[39m\u001B[38;5;124mvalue\u001B[39m\u001B[38;5;124m'\u001B[39m]\u001B[38;5;241m.\u001B[39mcpp_type\n",
      "File \u001B[0;32m~/Documents/phd/holist/random/holist/lib/python3.10/site-packages/google/protobuf/text_format.py:967\u001B[0m, in \u001B[0;36m_Parser._MergeField\u001B[0;34m(self, tokenizer, message)\u001B[0m\n\u001B[1;32m    964\u001B[0m         tokenizer\u001B[38;5;241m.\u001B[39mConsume(\u001B[38;5;124m'\u001B[39m\u001B[38;5;124m,\u001B[39m\u001B[38;5;124m'\u001B[39m)\n\u001B[1;32m    966\u001B[0m   \u001B[38;5;28;01melse\u001B[39;00m:\n\u001B[0;32m--> 967\u001B[0m     \u001B[43mmerger\u001B[49m\u001B[43m(\u001B[49m\u001B[43mtokenizer\u001B[49m\u001B[43m,\u001B[49m\u001B[43m \u001B[49m\u001B[43mmessage\u001B[49m\u001B[43m,\u001B[49m\u001B[43m \u001B[49m\u001B[43mfield\u001B[49m\u001B[43m)\u001B[49m\n\u001B[1;32m    969\u001B[0m \u001B[38;5;28;01melse\u001B[39;00m:  \u001B[38;5;66;03m# Proto field is unknown.\u001B[39;00m\n\u001B[1;32m    970\u001B[0m   \u001B[38;5;28;01massert\u001B[39;00m (\u001B[38;5;28mself\u001B[39m\u001B[38;5;241m.\u001B[39mallow_unknown_extension \u001B[38;5;129;01mor\u001B[39;00m \u001B[38;5;28mself\u001B[39m\u001B[38;5;241m.\u001B[39mallow_unknown_field)\n",
      "File \u001B[0;32m~/Documents/phd/holist/random/holist/lib/python3.10/site-packages/google/protobuf/text_format.py:1090\u001B[0m, in \u001B[0;36m_Parser._MergeScalarField\u001B[0;34m(self, tokenizer, message, field)\u001B[0m\n\u001B[1;32m   1087\u001B[0m \u001B[38;5;28;01melif\u001B[39;00m field\u001B[38;5;241m.\u001B[39mtype \u001B[38;5;129;01min\u001B[39;00m (descriptor\u001B[38;5;241m.\u001B[39mFieldDescriptor\u001B[38;5;241m.\u001B[39mTYPE_FLOAT,\n\u001B[1;32m   1088\u001B[0m                     descriptor\u001B[38;5;241m.\u001B[39mFieldDescriptor\u001B[38;5;241m.\u001B[39mTYPE_DOUBLE):\n\u001B[1;32m   1089\u001B[0m   value \u001B[38;5;241m=\u001B[39m tokenizer\u001B[38;5;241m.\u001B[39mConsumeFloat()\n\u001B[0;32m-> 1090\u001B[0m \u001B[38;5;28;01melif\u001B[39;00m field\u001B[38;5;241m.\u001B[39mtype \u001B[38;5;241m==\u001B[39m descriptor\u001B[38;5;241m.\u001B[39mFieldDescriptor\u001B[38;5;241m.\u001B[39mTYPE_BOOL:\n\u001B[1;32m   1091\u001B[0m   value \u001B[38;5;241m=\u001B[39m tokenizer\u001B[38;5;241m.\u001B[39mConsumeBool()\n\u001B[1;32m   1092\u001B[0m \u001B[38;5;28;01melif\u001B[39;00m field\u001B[38;5;241m.\u001B[39mtype \u001B[38;5;241m==\u001B[39m descriptor\u001B[38;5;241m.\u001B[39mFieldDescriptor\u001B[38;5;241m.\u001B[39mTYPE_STRING:\n",
      "\u001B[0;31mKeyboardInterrupt\u001B[0m: "
     ]
    }
   ],
   "source": [
    "pf_log.theorem_in_database\n",
    "\n",
    "import glob\n",
    "\n",
    "\n",
    "files = glob.glob(\"/home/sean/Documents/phd/holist/hollightdata/final/proofs/human/**/*.pbtxt*\")\n",
    "\n",
    "len(files)\n",
    "\n",
    "# 528 + 537 + 1664\n",
    "\n",
    "count = 0\n",
    "for i, file in enumerate(files):\n",
    "    count += len(list(io_util.read_protos(file,deephol_pb2.ProofLog)))\n",
    "    if i % 50 == 0:\n",
    "        print (count)\n",
    "\n",
    " # 14742 proof logs total \n",
    "\n",
    "count\n",
    "\n",
    "files\n",
    "\n",
    "test = \"(a (c (fun (fun (bool) (bool)) (bool)) ?asdf) (l (v (bool) xasdf) (a (a (c (fun (bool) (fun (bool) (bool))) =) (c yyy T)) (v (bool) x))))\"\n",
    "\n",
    "class Token:\n",
    "    def __init__(self, value, type_):\n",
    "        self.value = value\n",
    "        self.type_ = type_\n",
    "    \n",
    "#def s_expression_to_token(exp):\n",
    "    \n",
    "\n",
    "class AST:\n",
    "    def __init__(self, node, children=[], parent=None):\n",
    "        self.node = node\n",
    "        self.children = children\n",
    "        self.parent = [parent]\n",
    "\n",
    "    def _print(self, depth=1):\n",
    "        print(depth * \"--- \" + self.node.value)\n",
    "        if len(self.children) > 0:\n",
    "            for child in self.children:\n",
    "                child._print(depth + 1)\n",
    "\n",
    "test\n",
    "\n",
    "chars = list(test)\n",
    "\n",
    "# helper which returns contents inside parentheses\n",
    "\n",
    "def get_parentheses_val(exp):\n",
    "    assert exp[0] == '('\n",
    "    left_count = 1\n",
    "    ret = \"\"\n",
    "    while left_count > 0:\n",
    "        exp.pop(0)\n",
    "        if exp[0] == '(':\n",
    "            left_count += 1\n",
    "            ret += '('\n",
    "        elif exp[0] == ')':\n",
    "            left_count -= 1\n",
    "            if left_count > 0:\n",
    "                ret += ')'\n",
    "            else:\n",
    "                exp.pop(0)\n",
    "        else:\n",
    "            ret += exp[0]\n",
    "    return ret\n",
    "\n",
    "#helper to get arg up to next space\n",
    "def get_arg(exp):\n",
    "    assert exp[0] == \" \"\n",
    "    exp.pop(0)\n",
    "\n",
    "    if exp[0] == '(':\n",
    "        val = get_parentheses_val(exp)\n",
    "    else:\n",
    "        val = \"\"\n",
    "        assert exp[0] != \" \"\n",
    "        while exp[0] != \" \" and exp[0] != \")\":\n",
    "            val += exp[0]\n",
    "            exp.pop(0)\n",
    "    return val\n",
    "\n",
    "new_toks = []\n",
    "while len(chars) > 0:\n",
    "    if chars[0] == '(' or chars[0] == \")\" or chars[0] == \" \":\n",
    "        new_toks.append(chars[0])\n",
    "        chars.pop(0)\n",
    "        \n",
    "        \n",
    "    elif chars[0] == 'a':        \n",
    "        new_toks.append(chars[0])\n",
    "        chars.pop(0)\n",
    "    \n",
    "    # either parentheses or space following char/var\n",
    "    elif chars[0] == 'c' or chars[0] == 'v':\n",
    "        \n",
    "        func = chars[0]\n",
    "      #  print (f\"func {chars[0]}\")\n",
    "        chars.pop(0)\n",
    "        \n",
    "        val_type = get_arg(chars)\n",
    "      #  print (f\"type {val_type}\")\n",
    "\n",
    "        try:\n",
    "            val_arg = get_arg(chars)\n",
    "        except:\n",
    "            print (chars)\n",
    "        \n",
    "        \n",
    "#         print (f\"arg {val_type, val_arg}\")\n",
    "        if func == 'c':\n",
    "            new_toks.append(Token(val_type + \" \" + val_arg, \"constant\"))\n",
    "        elif func == 'v':\n",
    "            new_toks.append(Token(val_type + \" \" + val_arg, \"variable\"))\n",
    "        else: \n",
    "            raise Error\n",
    "        \n",
    "                \n",
    "    elif chars[0] == 'l':\n",
    "        new_toks.append(chars[0])\n",
    "        chars.pop(0)\n",
    "    else:\n",
    "        break\n",
    "\n",
    "\n",
    "def get_parentheses_node(exp):\n",
    "    assert exp[0] == '('\n",
    "    left_count = 1\n",
    "    ret = []\n",
    "    while left_count > 0:\n",
    "        exp.pop(0)\n",
    "        if exp[0] == '(':\n",
    "            left_count += 1\n",
    "            ret.append('(')\n",
    "        elif exp[0] == ')':\n",
    "            left_count -= 1\n",
    "            if left_count > 0:\n",
    "                ret.append(')')\n",
    "            else:\n",
    "                exp.pop(0)\n",
    "        else:\n",
    "            ret.append(exp[0])\n",
    "        \n",
    "    print (ret)\n",
    "    return ret\n",
    "\n",
    "def get_arg_node(exp):\n",
    "    if exp[0] == '(':\n",
    "        print (\"get parentheses\")\n",
    "        return get_arg_node(get_parentheses_node(exp))\n",
    "    \n",
    "    elif exp[0] == 'a':\n",
    "        exp.pop(0)\n",
    "        exp.pop(0)\n",
    "        func = get_arg_node(exp) \n",
    "        exp.pop(0)\n",
    "        val = get_arg_node(exp)\n",
    "        new_node = AST(Token(val, type_ = \"func\"))\n",
    "        func.children.append(new_node)\n",
    "        print (f\"a: val, func: {val.node.value, func.node.value}\")\n",
    "        return func\n",
    "    \n",
    "    elif exp[0] == 'l':\n",
    "        assert exp[1] == \" \"\n",
    "        exp.pop(0)\n",
    "        exp.pop(0)\n",
    "        var = get_arg_node(exp)\n",
    "        exp.pop(0)\n",
    "        func = get_arg_node(exp)\n",
    "        lamb = AST(Token(\"|\", \"lambda\"))\n",
    "        lamb.children.append(var)\n",
    "        lamb.children.append(func)\n",
    "        print (f\"lam: var, func: {var.node.value, func.node.value}\")\n",
    "        return lamb\n",
    "    \n",
    "    elif type(exp[0]) == Token:\n",
    "        print (f\"Tok: {exp}\")\n",
    "        ret = AST(exp[0])\n",
    "        exp.pop(0)\n",
    "        return ret\n",
    "\n",
    "new_toks\n",
    "\n",
    "ast = get_arg_node(new_toks)\n",
    "\n",
    "ast.node.value#children"
   ]
  }
 ],
 "metadata": {
  "kernelspec": {
   "display_name": "Python 3 (ipykernel)",
   "language": "python",
   "name": "python3"
  },
  "language_info": {
   "codemirror_mode": {
    "name": "ipython",
    "version": 3
   },
   "file_extension": ".py",
   "mimetype": "text/x-python",
   "name": "python",
   "nbconvert_exporter": "python",
   "pygments_lexer": "ipython3",
   "version": "3.10.6"
  },
  "toc": {
   "nav_menu": {},
   "number_sections": true,
   "sideBar": true,
   "skip_h1_title": true,
   "title_cell": "Table of Contents",
   "title_sidebar": "Contents",
   "toc_cell": true,
   "toc_position": {},
   "toc_section_display": true,
   "toc_window_display": false
  }
 },
 "nbformat": 4,
 "nbformat_minor": 2
}
